{
 "cells": [
  {
   "cell_type": "markdown",
   "id": "ee3b8d52",
   "metadata": {},
   "source": [
    "## from https://web.stanford.edu/~boyd/papers/admm/"
   ]
  },
  {
   "cell_type": "code",
   "execution_count": null,
   "id": "360c3981",
   "metadata": {},
   "outputs": [],
   "source": []
  },
  {
   "cell_type": "markdown",
   "id": "6d5dd5af",
   "metadata": {},
   "source": [
    "# Code"
   ]
  },
  {
   "cell_type": "code",
   "execution_count": 1,
   "id": "cce78bba",
   "metadata": {},
   "outputs": [
    {
     "name": "stdout",
     "output_type": "stream",
     "text": [
      "\n",
      "code =\n",
      "\n",
      "    'function [x, history] = huber_fit(A, b, rho, alpha)\n",
      "     % huber_fit  Solves a robust fitting problem\n",
      "     %\n",
      "     % [z, history] = huber_fit(A, b, rho, alpha);\n",
      "     % \n",
      "     % solves the following problem via ADMM:\n",
      "     %\n",
      "     %   minimize 1/2*sum(huber(A*x - b))\n",
      "     %\n",
      "     % with variable x.\n",
      "     %\n",
      "     % The solution is returned in the vector x.\n",
      "     %\n",
      "     % history is a structure that contains the objective value, the primal and \n",
      "     % dual residual norms, and the tolerances for the primal and dual residual \n",
      "     % norms at each iteration.\n",
      "     % \n",
      "     % rho is the augmented Lagrangian parameter. \n",
      "     %\n",
      "     % alpha is the over-relaxation parameter (typical values for alpha are \n",
      "     % between 1.0 and 1.8).\n",
      "     %\n",
      "     %\n",
      "     % More information can be found in the paper linked at:\n",
      "     % http://www.stanford.edu/~boyd/papers/distr_opt_stat_learning_admm.html\n",
      "     %\n",
      "     \n",
      "     t_start = tic;\n",
      "     \n",
      "     %% Global constants and defaults\n",
      "     \n",
      "     QUIET    = 0;\n",
      "     MAX_ITER = 1000;\n",
      "     ABSTOL   = 1e-4;\n",
      "     RELTOL   = 1e-2;\n",
      "     \n",
      "     %% Data preprocessing\n",
      "     \n",
      "     [m, n] = size(A);\n",
      "     \n",
      "     % save a matrix-vector multiply\n",
      "     Atb = A'*b;\n",
      "     \n",
      "     \n",
      "     %% ADMM solver\n",
      "     \n",
      "     x = zeros(n,1);\n",
      "     z = zeros(m,1);\n",
      "     u = zeros(m,1);\n",
      "     \n",
      "     % cache factorization\n",
      "     [L U] = factor(A);\n",
      "     \n",
      "     if ~QUIET\n",
      "         fprintf('%3s\\t%10s\\t%10s\\t%10s\\t%10s\\t%10s\\n', 'iter', ...\n",
      "           'r norm', 'eps pri', 's norm', 'eps dual', 'objective');\n",
      "     end\n",
      "     \n",
      "     for k = 1:MAX_ITER\n",
      "         \n",
      "         % x-update\n",
      "         q = Atb + A'*(z - u);\n",
      "         x = U \\ (L \\ q);\n",
      "         \n",
      "         % z-update with relaxation\n",
      "         zold = z;\n",
      "         Ax_hat = alpha*A*x + (1-alpha)*(zold + b);\n",
      "         tmp = Ax_hat - b + u;\n",
      "         z = rho/(1 + rho)*tmp + 1/(1 + rho)*shrinkage(tmp, 1 + 1/rho);\n",
      "         \n",
      "         u = u + (Ax_hat - z - b);\n",
      "             \n",
      "         % diagnostics, reporting, termination checks\n",
      "         history.objval(k)  = objective(z);\n",
      "         \n",
      "         history.r_norm(k)  = norm(A*x - z - b);\n",
      "         history.s_norm(k)  = norm(-rho*A'*(z - zold));\n",
      "         \n",
      "         history.eps_pri(k) = sqrt(n)*ABSTOL + RELTOL*max([norm(A*x), norm(-z), norm(b)]);\n",
      "         history.eps_dual(k)= sqrt(n)*ABSTOL + RELTOL*norm(rho*u);\n",
      "     \n",
      "         \n",
      "         if ~QUIET\n",
      "             fprintf('%3d\\t%10.4f\\t%10.4f\\t%10.4f\\t%10.4f\\t%10.2f\\n', k, ...\n",
      "                 history.r_norm(k), history.eps_pri(k), ...\n",
      "                 history.s_norm(k), history.eps_dual(k), history.objval(k));\n",
      "         end\n",
      "     \n",
      "         \n",
      "         if history.r_norm(k) < history.eps_pri(k) && ...\n",
      "            history.s_norm(k) < history.eps_dual(k);\n",
      "             break\n",
      "         end\n",
      "     \n",
      "     end\n",
      "     \n",
      "     if ~QUIET\n",
      "         toc(t_start);\n",
      "     end\n",
      "     \n",
      "     end\n",
      "     \n",
      "     function p = objective(z)\n",
      "         p = ( 1/2*sum(huber(z)) );\n",
      "     end\n",
      "     \n",
      "     function z = shrinkage(x, kappa)\n",
      "         z = pos(1 - kappa./abs(x)).*x;\n",
      "     end\n",
      "     \n",
      "     function [L U] = factor(A)\n",
      "         [m, n] = size(A);\n",
      "         if ( m >= n )    % if skinny\n",
      "            L = chol( A'*A, 'lower' );\n",
      "         end\n",
      "         \n",
      "         % force matlab to recognize the upper / lower triangular structure\n",
      "         L = sparse(L);\n",
      "         U = sparse(L');\n",
      "     end\n",
      "     \n",
      "     \n",
      "     \n",
      "     \n",
      "     '\n",
      "\n"
     ]
    }
   ],
   "source": [
    "code = grabcode(\"https://web.stanford.edu/~boyd/papers/admm/huber/huber_fit.html\")"
   ]
  },
  {
   "cell_type": "code",
   "execution_count": null,
   "id": "ff565b4a",
   "metadata": {},
   "outputs": [],
   "source": []
  },
  {
   "cell_type": "code",
   "execution_count": 2,
   "id": "a729c139",
   "metadata": {},
   "outputs": [
    {
     "name": "stdout",
     "output_type": "stream",
     "text": [
      "Created file '/home/wenh06/Jupyter/wenhao/workspace/fl_seminar/code/boyd-admm/huber_fit.m'.\n"
     ]
    }
   ],
   "source": [
    "%%file huber_fit.m\n",
    "\n",
    "function [x, history] = huber_fit(A, b, rho, alpha)\n",
    "% huber_fit  Solves a robust fitting problem\n",
    "%\n",
    "% [z, history] = huber_fit(A, b, rho, alpha);\n",
    "% \n",
    "% solves the following problem via ADMM:\n",
    "%\n",
    "%   minimize 1/2*sum(huber(A*x - b))\n",
    "%\n",
    "% with variable x.\n",
    "%\n",
    "% The solution is returned in the vector x.\n",
    "%\n",
    "% history is a structure that contains the objective value, the primal and \n",
    "% dual residual norms, and the tolerances for the primal and dual residual \n",
    "% norms at each iteration.\n",
    "% \n",
    "% rho is the augmented Lagrangian parameter. \n",
    "%\n",
    "% alpha is the over-relaxation parameter (typical values for alpha are \n",
    "% between 1.0 and 1.8).\n",
    "%\n",
    "%\n",
    "% More information can be found in the paper linked at:\n",
    "% http://www.stanford.edu/~boyd/papers/distr_opt_stat_learning_admm.html\n",
    "%\n",
    "\n",
    "t_start = tic;\n",
    "\n",
    "%% Global constants and defaults\n",
    "\n",
    "QUIET    = 0;\n",
    "MAX_ITER = 1000;\n",
    "ABSTOL   = 1e-4;\n",
    "RELTOL   = 1e-2;\n",
    "\n",
    "%% Data preprocessing\n",
    "\n",
    "[m, n] = size(A);\n",
    "\n",
    "% save a matrix-vector multiply\n",
    "Atb = A'*b;\n",
    "\n",
    "\n",
    "%% ADMM solver\n",
    "\n",
    "x = zeros(n,1);\n",
    "z = zeros(m,1);\n",
    "u = zeros(m,1);\n",
    "\n",
    "% cache factorization\n",
    "[L U] = factor(A);\n",
    "\n",
    "if ~QUIET\n",
    " fprintf('%3s\\t%10s\\t%10s\\t%10s\\t%10s\\t%10s\\n', 'iter', ...\n",
    "   'r norm', 'eps pri', 's norm', 'eps dual', 'objective');\n",
    "end\n",
    "\n",
    "for k = 1:MAX_ITER\n",
    "\n",
    " % x-update\n",
    " q = Atb + A'*(z - u);\n",
    " x = U \\ (L \\ q);\n",
    "\n",
    " % z-update with relaxation\n",
    " zold = z;\n",
    " Ax_hat = alpha*A*x + (1-alpha)*(zold + b);\n",
    " tmp = Ax_hat - b + u;\n",
    " z = rho/(1 + rho)*tmp + 1/(1 + rho)*shrinkage(tmp, 1 + 1/rho);\n",
    "\n",
    " u = u + (Ax_hat - z - b);\n",
    "\n",
    " % diagnostics, reporting, termination checks\n",
    " history.objval(k)  = objective(z);\n",
    "\n",
    " history.r_norm(k)  = norm(A*x - z - b);\n",
    " history.s_norm(k)  = norm(-rho*A'*(z - zold));\n",
    "\n",
    " history.eps_pri(k) = sqrt(n)*ABSTOL + RELTOL*max([norm(A*x), norm(-z), norm(b)]);\n",
    " history.eps_dual(k)= sqrt(n)*ABSTOL + RELTOL*norm(rho*u);\n",
    "\n",
    "\n",
    " if ~QUIET\n",
    "     fprintf('%3d\\t%10.4f\\t%10.4f\\t%10.4f\\t%10.4f\\t%10.2f\\n', k, ...\n",
    "         history.r_norm(k), history.eps_pri(k), ...\n",
    "         history.s_norm(k), history.eps_dual(k), history.objval(k));\n",
    " end\n",
    "\n",
    "\n",
    " if history.r_norm(k) < history.eps_pri(k) && ...\n",
    "    history.s_norm(k) < history.eps_dual(k);\n",
    "     break\n",
    " end\n",
    "\n",
    "end\n",
    "\n",
    "if ~QUIET\n",
    " toc(t_start);\n",
    "end\n",
    "\n",
    "end\n",
    "\n",
    "function p = objective(z)\n",
    " p = ( 1/2*sum(huber(z)) );\n",
    "end\n",
    "\n",
    "function z = shrinkage(x, kappa)\n",
    " z = pos(1 - kappa./abs(x)).*x;\n",
    "end\n",
    "\n",
    "function [L U] = factor(A)\n",
    " [m, n] = size(A);\n",
    " if ( m >= n )    % if skinny\n",
    "    L = chol( A'*A, 'lower' );\n",
    " end\n",
    "\n",
    " % force matlab to recognize the upper / lower triangular structure\n",
    " L = sparse(L);\n",
    " U = sparse(L');\n",
    "end"
   ]
  },
  {
   "cell_type": "code",
   "execution_count": null,
   "id": "05be9989",
   "metadata": {},
   "outputs": [],
   "source": []
  },
  {
   "cell_type": "code",
   "execution_count": null,
   "id": "7860fd15",
   "metadata": {},
   "outputs": [],
   "source": []
  },
  {
   "cell_type": "markdown",
   "id": "cc971d41",
   "metadata": {},
   "source": [
    "# Examples"
   ]
  },
  {
   "cell_type": "code",
   "execution_count": 3,
   "id": "d55b9c3a",
   "metadata": {},
   "outputs": [
    {
     "name": "stdout",
     "output_type": "stream",
     "text": [
      "\n",
      "eg_code =\n",
      "\n",
      "    '% Huber function fitting example\n",
      "     \n",
      "     %% Generate problem data\n",
      "     randn('seed', 0);\n",
      "     rand('seed',0);\n",
      "     \n",
      "     m = 5000;       % number of examples\n",
      "     n = 200;        % number of features\n",
      "     \n",
      "     x0 = randn(n,1);\n",
      "     A = randn(m,n);\n",
      "     A = A*spdiags(1./norms(A)',0,n,n); % normalize columns\n",
      "     b = A*x0 + sqrt(0.01)*randn(m,1);\n",
      "     b = b + 10*sprand(m,1,200/m);      % add sparse, large noise\n",
      "     \n",
      "     %% Solve problem\n",
      "     \n",
      "     [x history] = huber_fit(A, b, 1.0, 1.0);\n",
      "     \n",
      "     %% Reporting\n",
      "     K = length(history.objval);                                                                                                        \n",
      "     \n",
      "     h = figure;\n",
      "     plot(1:K, history.objval, 'k', 'MarkerSize', 10, 'LineWidth', 2); \n",
      "     ylabel('f(x^k) + g(z^k)'); xlabel('iter (k)');\n",
      "     \n",
      "     g = figure;\n",
      "     subplot(2,1,1);                                                                                                                    \n",
      "     semilogy(1:K, max(1e-8, history.r_norm), 'k', ...\n",
      "         1:K, history.eps_pri, 'k--',  'LineWidth', 2); \n",
      "     ylabel('||r||_2'); \n",
      "     \n",
      "     subplot(2,1,2);                                                                                                                    \n",
      "     semilogy(1:K, max(1e-8, history.s_norm), 'k', ...\n",
      "         1:K, history.eps_dual, 'k--', 'LineWidth', 2);   \n",
      "     ylabel('||s||_2'); xlabel('iter (k)'); \n",
      "     '\n",
      "\n"
     ]
    }
   ],
   "source": [
    "eg_code = grabcode(\"https://web.stanford.edu/~boyd/papers/admm/huber/huber_fit_example.html\")"
   ]
  },
  {
   "cell_type": "markdown",
   "id": "762e3c27",
   "metadata": {},
   "source": [
    "### Generate problem data"
   ]
  },
  {
   "cell_type": "markdown",
   "id": "b1ab0d72",
   "metadata": {},
   "source": [
    "#### required: install cvx from http://cvxr.com/cvx/download/"
   ]
  },
  {
   "cell_type": "code",
   "execution_count": 4,
   "id": "bff8d510",
   "metadata": {},
   "outputs": [],
   "source": [
    "randn('seed', 0);\n",
    "rand('seed',0);\n",
    "\n",
    "m = 5000;       % number of examples\n",
    "n = 200;        % number of features\n",
    "\n",
    "x0 = randn(n,1);\n",
    "A = randn(m,n);\n",
    "A = A*spdiags(1./norms(A)',0,n,n); % normalize columns\n",
    "b = A*x0 + sqrt(0.01)*randn(m,1);\n",
    "b = b + 10*sprand(m,1,200/m);      % add sparse, large noise"
   ]
  },
  {
   "cell_type": "code",
   "execution_count": 7,
   "id": "a5626c7d",
   "metadata": {},
   "outputs": [],
   "source": [
    "?norms"
   ]
  },
  {
   "cell_type": "code",
   "execution_count": null,
   "id": "f6ee3f3c",
   "metadata": {},
   "outputs": [],
   "source": []
  },
  {
   "cell_type": "markdown",
   "id": "10e2bf70",
   "metadata": {},
   "source": [
    "### Solve problem"
   ]
  },
  {
   "cell_type": "code",
   "execution_count": 5,
   "id": "62926043",
   "metadata": {},
   "outputs": [
    {
     "name": "stdout",
     "output_type": "stream",
     "text": [
      "iter\t    r norm\t   eps pri\t    s norm\t  eps dual\t objective\n",
      "  1\t   15.4154\t    0.7767\t    5.1477\t    0.1556\t    642.51\n",
      "  2\t    2.5360\t    0.7767\t    4.1103\t    0.1589\t    827.60\n",
      "  3\t    2.2591\t    0.7767\t    2.1831\t    0.1554\t    833.26\n",
      "  4\t    1.2350\t    0.7767\t    1.1045\t    0.1544\t    832.93\n",
      "  5\t    0.6256\t    0.7767\t    0.5544\t    0.1542\t    832.86\n",
      "  6\t    0.3144\t    0.7767\t    0.2776\t    0.1542\t    832.87\n",
      "  7\t    0.1575\t    0.7767\t    0.1389\t    0.1542\t    832.88\n",
      "\u001a\u001a 0.090487 \u001a\u001a\n"
     ]
    }
   ],
   "source": [
    "[x history] = huber_fit(A, b, 1.0, 1.0);"
   ]
  },
  {
   "cell_type": "code",
   "execution_count": null,
   "id": "41cab825",
   "metadata": {},
   "outputs": [],
   "source": []
  },
  {
   "cell_type": "markdown",
   "id": "9e826f23",
   "metadata": {},
   "source": [
    "### Reporting"
   ]
  },
  {
   "cell_type": "code",
   "execution_count": 6,
   "id": "0f18ab2f",
   "metadata": {},
   "outputs": [
    {
     "data": {
      "image/png": "[encoded data removed]",
      "text/plain": [
       "<IPython.core.display.Image object>"
      ]
     },
     "metadata": {},
     "output_type": "display_data"
    },
    {
     "data": {
      "image/png": "[encoded data removed]",
      "text/plain": [
       "<IPython.core.display.Image object>"
      ]
     },
     "metadata": {},
     "output_type": "display_data"
    }
   ],
   "source": [
    "K = length(history.objval);\n",
    "\n",
    "h = figure;\n",
    "plot(1:K, history.objval, 'k', 'MarkerSize', 10, 'LineWidth', 2);\n",
    "ylabel('f(x^k) + g(z^k)'); xlabel('iter (k)');\n",
    "\n",
    "g = figure;\n",
    "subplot(2,1,1);\n",
    "semilogy(1:K, max(1e-8, history.r_norm), 'k', ...\n",
    "    1:K, history.eps_pri, 'k--',  'LineWidth', 2);\n",
    "ylabel('||r||_2');\n",
    "\n",
    "subplot(2,1,2);\n",
    "semilogy(1:K, max(1e-8, history.s_norm), 'k', ...\n",
    "    1:K, history.eps_dual, 'k--', 'LineWidth', 2);\n",
    "ylabel('||s||_2'); xlabel('iter (k)');"
   ]
  },
  {
   "cell_type": "code",
   "execution_count": null,
   "id": "264634e5",
   "metadata": {},
   "outputs": [],
   "source": []
  },
  {
   "cell_type": "code",
   "execution_count": null,
   "id": "4df83b6a",
   "metadata": {},
   "outputs": [],
   "source": []
  }
 ],
 "metadata": {
  "kernelspec": {
   "display_name": "Matlab",
   "language": "matlab",
   "name": "matlab"
  },
  "language_info": {
   "codemirror_mode": "octave",
   "file_extension": ".m",
   "help_links": [
    {
     "text": "MetaKernel Magics",
     "url": "https://metakernel.readthedocs.io/en/latest/source/README.html"
    }
   ],
   "mimetype": "text/x-octave",
   "name": "matlab",
   "version": "0.16.11"
  }
 },
 "nbformat": 4,
 "nbformat_minor": 5
}
