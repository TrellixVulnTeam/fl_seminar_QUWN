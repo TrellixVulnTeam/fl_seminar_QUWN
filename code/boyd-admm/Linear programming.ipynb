{
 "cells": [
  {
   "cell_type": "markdown",
   "id": "43f90af5",
   "metadata": {},
   "source": [
    "## from https://web.stanford.edu/~boyd/papers/admm/"
   ]
  },
  {
   "cell_type": "code",
   "execution_count": null,
   "id": "a7380e3f",
   "metadata": {},
   "outputs": [],
   "source": []
  },
  {
   "cell_type": "markdown",
   "id": "2709ae1e",
   "metadata": {},
   "source": [
    "# Code"
   ]
  },
  {
   "cell_type": "code",
   "execution_count": 1,
   "id": "ea4f9db3",
   "metadata": {},
   "outputs": [
    {
     "name": "stdout",
     "output_type": "stream",
     "text": [
      "\n",
      "code =\n",
      "\n",
      "    'function [z, history] = linprog(c, A, b, rho, alpha)\n",
      "     % linprog  Solve standard form LP via ADMM\n",
      "     %\n",
      "     % [x, history] = linprog(c, A, b, rho, alpha);\n",
      "     % \n",
      "     % Solves the following problem via ADMM:\n",
      "     % \n",
      "     %   minimize     c'*x\n",
      "     %   subject to   Ax = b, x >= 0\n",
      "     % \n",
      "     % The solution is returned in the vector x.\n",
      "     %\n",
      "     % history is a structure that contains the objective value, the primal and \n",
      "     % dual residual norms, and the tolerances for the primal and dual residual \n",
      "     % norms at each iteration.\n",
      "     % \n",
      "     % rho is the augmented Lagrangian parameter. \n",
      "     %\n",
      "     % alpha is the over-relaxation parameter (typical values for alpha are \n",
      "     % between 1.0 and 1.8).\n",
      "     %\n",
      "     %\n",
      "     % More information can be found in the paper linked at:\n",
      "     % http://www.stanford.edu/~boyd/papers/distr_opt_stat_learning_admm.html\n",
      "     %\n",
      "     \n",
      "     t_start = tic;\n",
      "     \n",
      "     %% Global constants and defaults\n",
      "     \n",
      "     QUIET    = 0;\n",
      "     MAX_ITER = 1000;\n",
      "     ABSTOL   = 1e-4;\n",
      "     RELTOL   = 1e-2;\n",
      "     \n",
      "     %% Data preprocessing\n",
      "     \n",
      "     [m n] = size(A);\n",
      "     \n",
      "     %% ADMM solver\n",
      "     \n",
      "     x = zeros(n,1);\n",
      "     z = zeros(n,1);\n",
      "     u = zeros(n,1);\n",
      "     \n",
      "     if ~QUIET\n",
      "         fprintf('%3s\\t%10s\\t%10s\\t%10s\\t%10s\\t%10s\\n', 'iter', ...\n",
      "           'r norm', 'eps pri', 's norm', 'eps dual', 'objective');\n",
      "     end\n",
      "     \n",
      "     for k = 1:MAX_ITER\n",
      "     \n",
      "         % x-update\n",
      "         tmp = [ rho*eye(n), A'; A, zeros(m) ] \\ [ rho*(z - u) - c; b ];\n",
      "         x = tmp(1:n);\n",
      "     \n",
      "         % z-update with relaxation\n",
      "         zold = z;\n",
      "         x_hat = alpha*x + (1 - alpha)*zold;\n",
      "         z = pos(x_hat + u);\n",
      "     \n",
      "         u = u + (x_hat - z);\n",
      "     \n",
      "         % diagnostics, reporting, termination checks\n",
      "     \n",
      "         history.objval(k)  = objective(c, x);\n",
      "         \n",
      "         history.r_norm(k)  = norm(x - z);\n",
      "         history.s_norm(k)  = norm(-rho*(z - zold));\n",
      "         \n",
      "         history.eps_pri(k) = sqrt(n)*ABSTOL + RELTOL*max(norm(x), norm(-z));\n",
      "         history.eps_dual(k)= sqrt(n)*ABSTOL + RELTOL*norm(rho*u);\n",
      "     \n",
      "         if ~QUIET\n",
      "             fprintf('%3d\\t%10.4f\\t%10.4f\\t%10.4f\\t%10.4f\\t%10.2f\\n', k, ...\n",
      "                 history.r_norm(k), history.eps_pri(k), ...\n",
      "                 history.s_norm(k), history.eps_dual(k), history.objval(k));\n",
      "         end\n",
      "     \n",
      "         if (history.r_norm(k) < history.eps_pri(k) && ...\n",
      "            history.s_norm(k) < history.eps_dual(k))\n",
      "              break;\n",
      "         end\n",
      "     end\n",
      "     \n",
      "     if ~QUIET\n",
      "         toc(t_start);\n",
      "     end\n",
      "     \n",
      "     end\n",
      "     \n",
      "     function obj = objective(c, x)\n",
      "         obj = c'*x;\n",
      "     end\n",
      "     '\n",
      "\n"
     ]
    }
   ],
   "source": [
    "code = grabcode(\"https://web.stanford.edu/~boyd/papers/admm/linprog/linprog.html\")"
   ]
  },
  {
   "cell_type": "code",
   "execution_count": null,
   "id": "b61c4886",
   "metadata": {},
   "outputs": [],
   "source": []
  },
  {
   "cell_type": "code",
   "execution_count": 2,
   "id": "05768983",
   "metadata": {},
   "outputs": [
    {
     "name": "stdout",
     "output_type": "stream",
     "text": [
      "Created file '/home/wenh06/Jupyter/wenhao/workspace/fl_seminar/code/boyd-admm/linprog.m'.\n"
     ]
    }
   ],
   "source": [
    "%%file linprog.m\n",
    "\n",
    "function [z, history] = linprog(c, A, b, rho, alpha)\n",
    "% linprog  Solve standard form LP via ADMM\n",
    "%\n",
    "% [x, history] = linprog(c, A, b, rho, alpha);\n",
    "%\n",
    "% Solves the following problem via ADMM:\n",
    "%\n",
    "%   minimize     c'*x\n",
    "%   subject to   Ax = b, x >= 0\n",
    "%\n",
    "% The solution is returned in the vector x.\n",
    "%\n",
    "% history is a structure that contains the objective value, the primal and\n",
    "% dual residual norms, and the tolerances for the primal and dual residual\n",
    "% norms at each iteration.\n",
    "%\n",
    "% rho is the augmented Lagrangian parameter.\n",
    "%\n",
    "% alpha is the over-relaxation parameter (typical values for alpha are\n",
    "% between 1.0 and 1.8).\n",
    "%\n",
    "%\n",
    "% More information can be found in the paper linked at:\n",
    "% http://www.stanford.edu/~boyd/papers/distr_opt_stat_learning_admm.html\n",
    "%\n",
    "\n",
    "t_start = tic;\n",
    "\n",
    "%% Global constants and defaults\n",
    "\n",
    "QUIET    = 0;\n",
    "MAX_ITER = 1000;\n",
    "ABSTOL   = 1e-4;\n",
    "RELTOL   = 1e-2;\n",
    "\n",
    "%% Data preprocessing\n",
    "\n",
    "[m n] = size(A);\n",
    "\n",
    "%% ADMM solver\n",
    "\n",
    "x = zeros(n,1);\n",
    "z = zeros(n,1);\n",
    "u = zeros(n,1);\n",
    "\n",
    "if ~QUIET\n",
    "    fprintf('%3s\\t%10s\\t%10s\\t%10s\\t%10s\\t%10s\\n', 'iter', ...\n",
    "      'r norm', 'eps pri', 's norm', 'eps dual', 'objective');\n",
    "end\n",
    "\n",
    "for k = 1:MAX_ITER\n",
    "\n",
    "    % x-update\n",
    "    tmp = [ rho*eye(n), A'; A, zeros(m) ] \\ [ rho*(z - u) - c; b ];\n",
    "    x = tmp(1:n);\n",
    "\n",
    "    % z-update with relaxation\n",
    "    zold = z;\n",
    "    x_hat = alpha*x + (1 - alpha)*zold;\n",
    "    z = pos(x_hat + u);\n",
    "\n",
    "    u = u + (x_hat - z);\n",
    "\n",
    "    % diagnostics, reporting, termination checks\n",
    "\n",
    "    history.objval(k)  = objective(c, x);\n",
    "\n",
    "    history.r_norm(k)  = norm(x - z);\n",
    "    history.s_norm(k)  = norm(-rho*(z - zold));\n",
    "\n",
    "    history.eps_pri(k) = sqrt(n)*ABSTOL + RELTOL*max(norm(x), norm(-z));\n",
    "    history.eps_dual(k)= sqrt(n)*ABSTOL + RELTOL*norm(rho*u);\n",
    "\n",
    "    if ~QUIET\n",
    "        fprintf('%3d\\t%10.4f\\t%10.4f\\t%10.4f\\t%10.4f\\t%10.2f\\n', k, ...\n",
    "            history.r_norm(k), history.eps_pri(k), ...\n",
    "            history.s_norm(k), history.eps_dual(k), history.objval(k));\n",
    "    end\n",
    "\n",
    "    if (history.r_norm(k) < history.eps_pri(k) && ...\n",
    "       history.s_norm(k) < history.eps_dual(k))\n",
    "         break;\n",
    "    end\n",
    "end\n",
    "\n",
    "if ~QUIET\n",
    "    toc(t_start);\n",
    "end\n",
    "end\n",
    "\n",
    "function obj = objective(c, x)\n",
    "    obj = c'*x;\n",
    "end"
   ]
  },
  {
   "cell_type": "code",
   "execution_count": null,
   "id": "576080af",
   "metadata": {},
   "outputs": [],
   "source": []
  },
  {
   "cell_type": "code",
   "execution_count": null,
   "id": "04b8e47f",
   "metadata": {},
   "outputs": [],
   "source": []
  },
  {
   "cell_type": "markdown",
   "id": "2367a099",
   "metadata": {},
   "source": [
    "# Example"
   ]
  },
  {
   "cell_type": "code",
   "execution_count": 3,
   "id": "e5f664d2",
   "metadata": {},
   "outputs": [
    {
     "name": "stdout",
     "output_type": "stream",
     "text": [
      "\n",
      "eg_code =\n",
      "\n",
      "    '% Standard form LP with random data\n",
      "     \n",
      "     %% Generate problem data\n",
      "     randn('state', 0);\n",
      "     rand('state', 0);\n",
      "     \n",
      "     n = 500;  % dimension of x\n",
      "     m = 400;  % number of equality constraints\n",
      "     \n",
      "     c  = rand(n,1) + 0.5;    % create nonnegative price vector with mean 1\n",
      "     x0 = abs(randn(n,1));    % create random solution vector\n",
      "     \n",
      "     A = abs(randn(m,n));     % create random, nonnegative matrix A\n",
      "     b = A*x0;\n",
      "     \n",
      "     %% Solve problem\n",
      "     \n",
      "     [x history] = linprog(c, A, b, 1.0, 1.0);\n",
      "     \n",
      "     %% Reporting\n",
      "     K = length(history.objval);                                                                                                        \n",
      "     \n",
      "     h = figure;\n",
      "     plot(1:K, history.objval, 'k', 'MarkerSize', 10, 'LineWidth', 2); \n",
      "     ylabel('f(x^k) + g(z^k)'); xlabel('iter (k)');\n",
      "     \n",
      "     g = figure;\n",
      "     subplot(2,1,1);                                                                                                                    \n",
      "     semilogy(1:K, max(1e-8, history.r_norm), 'k', ...\n",
      "         1:K, history.eps_pri, 'k--',  'LineWidth', 2); \n",
      "     ylabel('||r||_2'); \n",
      "     \n",
      "     subplot(2,1,2);                                                                                                                    \n",
      "     semilogy(1:K, max(1e-8, history.s_norm), 'k', ...\n",
      "         1:K, history.eps_dual, 'k--', 'LineWidth', 2);   \n",
      "     ylabel('||s||_2'); xlabel('iter (k)'); \n",
      "     '\n",
      "\n"
     ]
    }
   ],
   "source": [
    "eg_code = grabcode(\"https://web.stanford.edu/~boyd/papers/admm/linprog/linprog_example.html\")"
   ]
  },
  {
   "cell_type": "code",
   "execution_count": null,
   "id": "ddfc0d1c",
   "metadata": {},
   "outputs": [],
   "source": []
  },
  {
   "cell_type": "markdown",
   "id": "2e2eebf9",
   "metadata": {},
   "source": [
    "### Generate problem data"
   ]
  },
  {
   "cell_type": "code",
   "execution_count": 4,
   "id": "8e8bf250",
   "metadata": {},
   "outputs": [],
   "source": [
    "randn('state', 0);\n",
    "rand('state', 0);\n",
    "\n",
    "n = 500;  % dimension of x\n",
    "m = 400;  % number of equality constraints\n",
    "\n",
    "c  = rand(n,1) + 0.5;    % create nonnegative price vector with mean 1\n",
    "x0 = abs(randn(n,1));    % create random solution vector\n",
    "\n",
    "A = abs(randn(m,n));     % create random, nonnegative matrix A\n",
    "b = A*x0;"
   ]
  },
  {
   "cell_type": "code",
   "execution_count": null,
   "id": "8f369814",
   "metadata": {},
   "outputs": [],
   "source": []
  },
  {
   "cell_type": "markdown",
   "id": "68378bcc",
   "metadata": {},
   "source": [
    "### Solve problem"
   ]
  },
  {
   "cell_type": "code",
   "execution_count": 5,
   "id": "0a7a13d8",
   "metadata": {},
   "outputs": [
    {
     "name": "stdout",
     "output_type": "stream",
     "text": [
      "iter\t    r norm\t   eps pri\t    s norm\t  eps dual\t objective\n",
      "  1\t    1.0583\t    0.2090\t   20.6468\t    0.0128\t    377.17\n",
      "  2\t    1.3281\t    0.2132\t    2.2600\t    0.0253\t    371.25\n",
      "  3\t    1.5087\t    0.2182\t    1.9352\t    0.0387\t    367.10\n",
      "  4\t    1.5695\t    0.2229\t    1.6421\t    0.0518\t    364.81\n",
      "  5\t    1.5312\t    0.2262\t    1.4066\t    0.0635\t    364.21\n",
      "  6\t    1.4058\t    0.2280\t    1.2723\t    0.0733\t    364.81\n",
      "  7\t    1.2277\t    0.2286\t    1.2189\t    0.0807\t    365.98\n",
      "  8\t    1.0224\t    0.2286\t    1.2002\t    0.0859\t    367.35\n",
      "  9\t    0.8861\t    0.2282\t    1.1314\t    0.0887\t    368.77\n",
      " 10\t    0.8534\t    0.2278\t    1.0007\t    0.0896\t    370.05\n",
      " 11\t    0.8526\t    0.2275\t    0.8478\t    0.0893\t    371.04\n",
      " 12\t    0.7885\t    0.2272\t    0.7667\t    0.0884\t    371.69\n",
      " 13\t    0.7181\t    0.2271\t    0.6922\t    0.0872\t    372.04\n",
      " 14\t    0.6492\t    0.2272\t    0.6628\t    0.0859\t    372.10\n",
      " 15\t    0.5849\t    0.2274\t    0.6356\t    0.0848\t    371.97\n",
      " 16\t    0.5359\t    0.2276\t    0.5851\t    0.0839\t    371.76\n",
      " 17\t    0.4933\t    0.2279\t    0.5560\t    0.0833\t    371.53\n",
      " 18\t    0.4857\t    0.2279\t    0.4907\t    0.0829\t    371.32\n",
      " 19\t    0.4840\t    0.2278\t    0.4258\t    0.0827\t    371.17\n",
      " 20\t    0.4652\t    0.2277\t    0.3954\t    0.0828\t    371.06\n",
      " 21\t    0.3946\t    0.2276\t    0.4067\t    0.0830\t    370.97\n",
      " 22\t    0.3540\t    0.2275\t    0.3861\t    0.0833\t    370.92\n",
      " 23\t    0.3225\t    0.2274\t    0.3638\t    0.0836\t    370.92\n",
      " 24\t    0.3077\t    0.2274\t    0.3378\t    0.0838\t    370.96\n",
      " 25\t    0.2989\t    0.2273\t    0.3120\t    0.0839\t    371.05\n",
      " 26\t    0.2927\t    0.2272\t    0.2886\t    0.0838\t    371.15\n",
      " 27\t    0.2798\t    0.2272\t    0.2745\t    0.0837\t    371.25\n",
      " 28\t    0.2677\t    0.2273\t    0.2582\t    0.0835\t    371.31\n",
      " 29\t    0.2536\t    0.2273\t    0.2492\t    0.0832\t    371.34\n",
      " 30\t    0.2406\t    0.2274\t    0.2416\t    0.0830\t    371.34\n",
      " 31\t    0.2309\t    0.2276\t    0.2324\t    0.0828\t    371.31\n",
      " 32\t    0.2224\t    0.2277\t    0.2225\t    0.0827\t    371.27\n",
      " 33\t    0.2153\t    0.2279\t    0.2121\t    0.0826\t    371.22\n",
      " 34\t    0.2020\t    0.2281\t    0.2088\t    0.0825\t    371.18\n",
      " 35\t    0.1868\t    0.2282\t    0.2054\t    0.0826\t    371.14\n",
      " 36\t    0.1725\t    0.2283\t    0.2032\t    0.0826\t    371.12\n",
      " 37\t    0.1643\t    0.2285\t    0.1970\t    0.0826\t    371.13\n",
      " 38\t    0.1608\t    0.2286\t    0.1869\t    0.0826\t    371.15\n",
      " 39\t    0.1598\t    0.2286\t    0.1763\t    0.0825\t    371.19\n",
      " 40\t    0.1610\t    0.2287\t    0.1630\t    0.0824\t    371.22\n",
      " 41\t    0.1612\t    0.2287\t    0.1517\t    0.0822\t    371.25\n",
      " 42\t    0.1597\t    0.2287\t    0.1433\t    0.0820\t    371.26\n",
      " 43\t    0.1572\t    0.2286\t    0.1366\t    0.0819\t    371.26\n",
      " 44\t    0.1550\t    0.2286\t    0.1304\t    0.0817\t    371.25\n",
      " 45\t    0.1524\t    0.2286\t    0.1247\t    0.0816\t    371.23\n",
      " 46\t    0.1481\t    0.2285\t    0.1225\t    0.0816\t    371.21\n",
      " 47\t    0.1402\t    0.2285\t    0.1220\t    0.0815\t    371.19\n",
      " 48\t    0.1283\t    0.2285\t    0.1288\t    0.0815\t    371.18\n",
      " 49\t    0.1182\t    0.2285\t    0.1295\t    0.0815\t    371.17\n",
      " 50\t    0.1075\t    0.2284\t    0.1336\t    0.0815\t    371.17\n",
      " 51\t    0.1008\t    0.2284\t    0.1315\t    0.0815\t    371.16\n",
      " 52\t    0.0979\t    0.2285\t    0.1289\t    0.0815\t    371.16\n",
      " 53\t    0.0974\t    0.2285\t    0.1249\t    0.0815\t    371.15\n",
      " 54\t    0.0961\t    0.2286\t    0.1209\t    0.0815\t    371.15\n",
      " 55\t    0.0937\t    0.2287\t    0.1188\t    0.0815\t    371.14\n",
      " 56\t    0.0906\t    0.2287\t    0.1166\t    0.0815\t    371.12\n",
      " 57\t    0.0882\t    0.2288\t    0.1144\t    0.0815\t    371.11\n",
      " 58\t    0.0883\t    0.2289\t    0.1107\t    0.0815\t    371.09\n",
      " 59\t    0.0891\t    0.2290\t    0.1056\t    0.0816\t    371.07\n",
      " 60\t    0.0897\t    0.2291\t    0.1011\t    0.0817\t    371.05\n",
      " 61\t    0.0893\t    0.2292\t    0.0967\t    0.0818\t    371.03\n",
      " 62\t    0.0877\t    0.2292\t    0.0942\t    0.0819\t    371.03\n",
      " 63\t    0.0856\t    0.2292\t    0.0922\t    0.0820\t    371.02\n",
      " 64\t    0.0835\t    0.2292\t    0.0906\t    0.0821\t    371.01\n",
      " 65\t    0.0814\t    0.2292\t    0.0892\t    0.0822\t    371.01\n",
      " 66\t    0.0797\t    0.2292\t    0.0877\t    0.0823\t    371.00\n",
      " 67\t    0.0786\t    0.2292\t    0.0860\t    0.0825\t    370.99\n",
      " 68\t    0.0781\t    0.2292\t    0.0837\t    0.0826\t    370.97\n",
      " 69\t    0.0786\t    0.2292\t    0.0803\t    0.0828\t    370.96\n",
      "\u001a\u001a 1.838244 \u001a\u001a\n"
     ]
    }
   ],
   "source": [
    "[x history] = linprog(c, A, b, 1.0, 1.0);"
   ]
  },
  {
   "cell_type": "code",
   "execution_count": null,
   "id": "a5b1e4e7",
   "metadata": {},
   "outputs": [],
   "source": []
  },
  {
   "cell_type": "markdown",
   "id": "970aa61a",
   "metadata": {},
   "source": [
    "### Reporting"
   ]
  },
  {
   "cell_type": "code",
   "execution_count": 6,
   "id": "7a576590",
   "metadata": {},
   "outputs": [
    {
     "data": {
      "image/png": "[encoded data removed]",
      "text/plain": [
       "<IPython.core.display.Image object>"
      ]
     },
     "metadata": {},
     "output_type": "display_data"
    },
    {
     "data": {
      "image/png": "[encoded data removed]",
      "text/plain": [
       "<IPython.core.display.Image object>"
      ]
     },
     "metadata": {},
     "output_type": "display_data"
    }
   ],
   "source": [
    "K = length(history.objval);\n",
    "\n",
    "h = figure;\n",
    "plot(1:K, history.objval, 'k', 'MarkerSize', 10, 'LineWidth', 2);\n",
    "ylabel('f(x^k) + g(z^k)'); xlabel('iter (k)');\n",
    "\n",
    "g = figure;\n",
    "subplot(2,1,1);\n",
    "semilogy(1:K, max(1e-8, history.r_norm), 'k', ...\n",
    "    1:K, history.eps_pri, 'k--',  'LineWidth', 2);\n",
    "ylabel('||r||_2');\n",
    "\n",
    "subplot(2,1,2);\n",
    "semilogy(1:K, max(1e-8, history.s_norm), 'k', ...\n",
    "    1:K, history.eps_dual, 'k--', 'LineWidth', 2);\n",
    "ylabel('||s||_2'); xlabel('iter (k)');"
   ]
  },
  {
   "cell_type": "code",
   "execution_count": null,
   "id": "f1703328",
   "metadata": {},
   "outputs": [],
   "source": []
  },
  {
   "cell_type": "code",
   "execution_count": null,
   "id": "48dd182e",
   "metadata": {},
   "outputs": [],
   "source": []
  }
 ],
 "metadata": {
  "kernelspec": {
   "display_name": "Matlab",
   "language": "matlab",
   "name": "matlab"
  },
  "language_info": {
   "codemirror_mode": "octave",
   "file_extension": ".m",
   "help_links": [
    {
     "text": "MetaKernel Magics",
     "url": "https://metakernel.readthedocs.io/en/latest/source/README.html"
    }
   ],
   "mimetype": "text/x-octave",
   "name": "matlab",
   "version": "0.16.11"
  }
 },
 "nbformat": 4,
 "nbformat_minor": 5
}
