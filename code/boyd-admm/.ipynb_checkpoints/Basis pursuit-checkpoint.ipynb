{
 "cells": [
  {
   "cell_type": "markdown",
   "id": "f856ae5b",
   "metadata": {},
   "source": [
    "## from https://web.stanford.edu/~boyd/papers/admm/"
   ]
  },
  {
   "cell_type": "code",
   "execution_count": null,
   "id": "ba2ca595",
   "metadata": {},
   "outputs": [],
   "source": []
  },
  {
   "cell_type": "markdown",
   "id": "3ca17188",
   "metadata": {},
   "source": [
    "# Code"
   ]
  },
  {
   "cell_type": "code",
   "execution_count": 1,
   "id": "7b891e42",
   "metadata": {
    "scrolled": true
   },
   "outputs": [
    {
     "name": "stdout",
     "output_type": "stream",
     "text": [
      "\n",
      "code =\n",
      "\n",
      "    'function [z, history] = basis_pursuit(A, b, rho, alpha)\n",
      "     % basis_pursuit  Solve basis pursuit via ADMM\n",
      "     %\n",
      "     % [x, history] = basis_pursuit(A, b, rho, alpha)\n",
      "     % \n",
      "     % Solves the following problem via ADMM:\n",
      "     % \n",
      "     %   minimize     ||x||_1\n",
      "     %   subject to   Ax = b\n",
      "     %\n",
      "     % The solution is returned in the vector x.\n",
      "     %\n",
      "     % history is a structure that contains the objective value, the primal and \n",
      "     % dual residual norms, and the tolerances for the primal and dual residual \n",
      "     % norms at each iteration.\n",
      "     % \n",
      "     % rho is the augmented Lagrangian parameter. \n",
      "     %\n",
      "     % alpha is the over-relaxation parameter (typical values for alpha are \n",
      "     % between 1.0 and 1.8).\n",
      "     %\n",
      "     % More information can be found in the paper linked at:\n",
      "     % http://www.stanford.edu/~boyd/papers/distr_opt_stat_learning_admm.html\n",
      "     %\n",
      "     \n",
      "     t_start = tic;\n",
      "     \n",
      "     %% Global constants and defaults\n",
      "     \n",
      "     QUIET    = 0;\n",
      "     MAX_ITER = 1000;\n",
      "     ABSTOL   = 1e-4;\n",
      "     RELTOL   = 1e-2;\n",
      "     \n",
      "     %% Data preprocessing\n",
      "     \n",
      "     [m n] = size(A);\n",
      "     \n",
      "     %% ADMM solver\n",
      "     \n",
      "     x = zeros(n,1);\n",
      "     z = zeros(n,1);\n",
      "     u = zeros(n,1);\n",
      "     \n",
      "     if ~QUIET\n",
      "         fprintf('%3s\\t%10s\\t%10s\\t%10s\\t%10s\\t%10s\\n', 'iter', ...\n",
      "           'r norm', 'eps pri', 's norm', 'eps dual', 'objective');\n",
      "     end\n",
      "     \n",
      "     % precompute static variables for x-update (projection on to Ax=b)\n",
      "     AAt = A*A';\n",
      "     P = eye(n) - A' * (AAt \\ A);\n",
      "     q = A' * (AAt \\ b);\n",
      "     \n",
      "     for k = 1:MAX_ITER\n",
      "         % x-update\n",
      "         x = P*(z - u) + q;\n",
      "     \n",
      "         % z-update with relaxation\n",
      "         zold = z;\n",
      "         x_hat = alpha*x + (1 - alpha)*zold;\n",
      "         z = shrinkage(x_hat + u, 1/rho);\n",
      "     \n",
      "         u = u + (x_hat - z);\n",
      "     \n",
      "         % diagnostics, reporting, termination checks\n",
      "         history.objval(k)  = objective(A, b, x);\n",
      "     \n",
      "         history.r_norm(k)  = norm(x - z);\n",
      "         history.s_norm(k)  = norm(-rho*(z - zold));\n",
      "         \n",
      "         history.eps_pri(k) = sqrt(n)*ABSTOL + RELTOL*max(norm(x), norm(-z));\n",
      "         history.eps_dual(k)= sqrt(n)*ABSTOL + RELTOL*norm(rho*u);\n",
      "     \n",
      "         if ~QUIET\n",
      "             fprintf('%3d\\t%10.4f\\t%10.4f\\t%10.4f\\t%10.4f\\t%10.2f\\n', k, ...\n",
      "                 history.r_norm(k), history.eps_pri(k), ...\n",
      "                 history.s_norm(k), history.eps_dual(k), history.objval(k));\n",
      "         end\n",
      "     \n",
      "         if (history.r_norm(k) < history.eps_pri(k) && ...\n",
      "            history.s_norm(k) < history.eps_dual(k))\n",
      "              break;\n",
      "         end\n",
      "     end\n",
      "     \n",
      "     if ~QUIET\n",
      "         toc(t_start);\n",
      "     end\n",
      "     \n",
      "     end\n",
      "     \n",
      "     function obj = objective(A, b, x)\n",
      "         obj = norm(x,1);\n",
      "     end\n",
      "     \n",
      "     function y = shrinkage(a, kappa)\n",
      "         y = max(0, a-kappa) - max(0, -a-kappa);\n",
      "     end\n",
      "     '\n",
      "\n"
     ]
    }
   ],
   "source": [
    "code = grabcode(\"https://web.stanford.edu/~boyd/papers/admm/basis_pursuit/basis_pursuit.html\")"
   ]
  },
  {
   "cell_type": "code",
   "execution_count": 2,
   "id": "af8c9933",
   "metadata": {},
   "outputs": [
    {
     "name": "stdout",
     "output_type": "stream",
     "text": [
      "Created file '/home/wenh06/Jupyter/wenhao/workspace/fl_seminar/code/boyd-admm/basis_pursuit.m'.\n"
     ]
    }
   ],
   "source": [
    "%%file basis_pursuit.m\n",
    "\n",
    "function [z, history] = basis_pursuit(A, b, rho, alpha)\n",
    "% basis_pursuit  Solve basis pursuit via ADMM\n",
    "%\n",
    "% [x, history] = basis_pursuit(A, b, rho, alpha)\n",
    "% \n",
    "% Solves the following problem via ADMM:\n",
    "% \n",
    "%   minimize     ||x||_1\n",
    "%   subject to   Ax = b\n",
    "%\n",
    "% The solution is returned in the vector x.\n",
    "%\n",
    "% history is a structure that contains the objective value, the primal and \n",
    "% dual residual norms, and the tolerances for the primal and dual residual \n",
    "% norms at each iteration.\n",
    "% \n",
    "% rho is the augmented Lagrangian parameter. \n",
    "%\n",
    "% alpha is the over-relaxation parameter (typical values for alpha are \n",
    "% between 1.0 and 1.8).\n",
    "%\n",
    "% More information can be found in the paper linked at:\n",
    "% http://www.stanford.edu/~boyd/papers/distr_opt_stat_learning_admm.html\n",
    "%\n",
    "\n",
    "t_start = tic;\n",
    "\n",
    "%% Global constants and defaults\n",
    "\n",
    "QUIET    = 0;\n",
    "MAX_ITER = 1000;\n",
    "ABSTOL   = 1e-4;\n",
    "RELTOL   = 1e-2;\n",
    "\n",
    "%% Data preprocessing\n",
    "\n",
    "[m n] = size(A);\n",
    "\n",
    "%% ADMM solver\n",
    "\n",
    "x = zeros(n,1);\n",
    "z = zeros(n,1);\n",
    "u = zeros(n,1);\n",
    "\n",
    "if ~QUIET\n",
    " fprintf('%3s\\t%10s\\t%10s\\t%10s\\t%10s\\t%10s\\n', 'iter', ...\n",
    "   'r norm', 'eps pri', 's norm', 'eps dual', 'objective');\n",
    "end\n",
    "\n",
    "% precompute static variables for x-update (projection on to Ax=b)\n",
    "AAt = A*A';\n",
    "P = eye(n) - A' * (AAt \\ A);\n",
    "q = A' * (AAt \\ b);\n",
    "\n",
    "for k = 1:MAX_ITER\n",
    " % x-update\n",
    " x = P*(z - u) + q;\n",
    "\n",
    " % z-update with relaxation\n",
    " zold = z;\n",
    " x_hat = alpha*x + (1 - alpha)*zold;\n",
    " z = shrinkage(x_hat + u, 1/rho);\n",
    "\n",
    " u = u + (x_hat - z);\n",
    "\n",
    " % diagnostics, reporting, termination checks\n",
    " history.objval(k)  = objective(A, b, x);\n",
    "\n",
    " history.r_norm(k)  = norm(x - z);\n",
    " history.s_norm(k)  = norm(-rho*(z - zold));\n",
    "\n",
    " history.eps_pri(k) = sqrt(n)*ABSTOL + RELTOL*max(norm(x), norm(-z));\n",
    " history.eps_dual(k)= sqrt(n)*ABSTOL + RELTOL*norm(rho*u);\n",
    "\n",
    " if ~QUIET\n",
    "     fprintf('%3d\\t%10.4f\\t%10.4f\\t%10.4f\\t%10.4f\\t%10.2f\\n', k, ...\n",
    "         history.r_norm(k), history.eps_pri(k), ...\n",
    "         history.s_norm(k), history.eps_dual(k), history.objval(k));\n",
    " end\n",
    "\n",
    " if (history.r_norm(k) < history.eps_pri(k) && ...\n",
    "    history.s_norm(k) < history.eps_dual(k))\n",
    "      break;\n",
    " end\n",
    "end\n",
    "\n",
    "if ~QUIET\n",
    " toc(t_start);\n",
    "end\n",
    "\n",
    "end\n",
    "\n",
    "function obj = objective(A, b, x)\n",
    " obj = norm(x,1);\n",
    "end\n",
    "\n",
    "function y = shrinkage(a, kappa)\n",
    " y = max(0, a-kappa) - max(0, -a-kappa);\n",
    "end"
   ]
  },
  {
   "cell_type": "code",
   "execution_count": null,
   "id": "60dab625",
   "metadata": {},
   "outputs": [],
   "source": []
  },
  {
   "cell_type": "code",
   "execution_count": null,
   "id": "d988947f",
   "metadata": {},
   "outputs": [],
   "source": []
  },
  {
   "cell_type": "markdown",
   "id": "4eb3b17d",
   "metadata": {},
   "source": [
    "# Examples"
   ]
  },
  {
   "cell_type": "code",
   "execution_count": 5,
   "id": "3feff9d3",
   "metadata": {},
   "outputs": [
    {
     "name": "stderr",
     "output_type": "stream",
     "text": [
      "\u001b[0;31m\u001a\u001a\u001a\u001a matlab.desktop.editor.newDocument (\u001a 20 \u001a)\n",
      "MATLAB \u001a\u001a\u001a\u001a\u001a\u001a\u001a Java \u001a\u001a\u001a\u001a\u001a\u001a\u001a\u001a\n",
      "\n",
      "\u001a\u001a grabcode (\u001a 51 \u001a)\n",
      "    matlab.desktop.editor.newDocument(codeStr);\n",
      "\n",
      "\u001b[0m"
     ]
    }
   ],
   "source": [
    "grabcode(\"https://web.stanford.edu/~boyd/papers/admm/basis_pursuit/basis_pursuit_example.html\")"
   ]
  },
  {
   "cell_type": "markdown",
   "id": "bd285523",
   "metadata": {},
   "source": [
    "### Generate problem data"
   ]
  },
  {
   "cell_type": "code",
   "execution_count": 6,
   "id": "20135599",
   "metadata": {},
   "outputs": [],
   "source": [
    "rand('seed', 0);\n",
    "randn('seed', 0);\n",
    "\n",
    "n = 30;\n",
    "m = 10;\n",
    "A = randn(m,n);\n",
    "\n",
    "x = sprandn(n, 1, 0.1*n);\n",
    "b = A*x;\n",
    "\n",
    "xtrue = x;"
   ]
  },
  {
   "cell_type": "code",
   "execution_count": null,
   "id": "941ba28d",
   "metadata": {},
   "outputs": [],
   "source": []
  },
  {
   "cell_type": "markdown",
   "id": "ed7eb8ee",
   "metadata": {},
   "source": [
    "### Solve problem"
   ]
  },
  {
   "cell_type": "code",
   "execution_count": 7,
   "id": "ed97ec26",
   "metadata": {},
   "outputs": [
    {
     "name": "stdout",
     "output_type": "stream",
     "text": [
      "iter\t    r norm\t   eps pri\t    s norm\t  eps dual\t objective\n",
      "  1\t    2.1455\t    0.0240\t    0.3756\t    0.0220\t      9.49\n",
      "  2\t    1.2821\t    0.0246\t    1.5779\t    0.0332\t      8.62\n",
      "  3\t    0.7697\t    0.0326\t    1.2111\t    0.0354\t      7.98\n",
      "  4\t    0.8756\t    0.0371\t    0.5554\t    0.0368\t      8.45\n",
      "  5\t    0.7662\t    0.0373\t    0.3617\t    0.0382\t      8.73\n",
      "  6\t    0.3543\t    0.0349\t    0.5447\t    0.0387\t      7.41\n",
      "  7\t    0.2137\t    0.0334\t    0.4236\t    0.0381\t      7.25\n",
      "  8\t    0.3035\t    0.0329\t    0.1683\t    0.0374\t      7.71\n",
      "  9\t    0.2479\t    0.0327\t    0.0969\t    0.0371\t      7.45\n",
      " 10\t    0.1514\t    0.0328\t    0.1500\t    0.0371\t      6.97\n",
      " 11\t    0.1002\t    0.0329\t    0.1479\t    0.0373\t      6.63\n",
      " 12\t    0.0870\t    0.0328\t    0.1249\t    0.0375\t      6.56\n",
      " 13\t    0.0840\t    0.0327\t    0.1039\t    0.0378\t      6.57\n",
      " 14\t    0.0804\t    0.0325\t    0.0895\t    0.0380\t      6.57\n",
      " 15\t    0.0774\t    0.0324\t    0.0715\t    0.0381\t      6.60\n",
      " 16\t    0.0711\t    0.0324\t    0.0610\t    0.0381\t      6.62\n",
      " 17\t    0.0590\t    0.0325\t    0.0522\t    0.0380\t      6.57\n",
      " 18\t    0.0513\t    0.0326\t    0.0477\t    0.0381\t      6.53\n",
      " 19\t    0.0452\t    0.0327\t    0.0443\t    0.0381\t      6.50\n",
      " 20\t    0.0424\t    0.0329\t    0.0394\t    0.0381\t      6.51\n",
      " 21\t    0.0426\t    0.0329\t    0.0323\t    0.0381\t      6.51\n",
      " 22\t    0.0433\t    0.0329\t    0.0248\t    0.0381\t      6.51\n",
      " 23\t    0.0417\t    0.0328\t    0.0214\t    0.0381\t      6.50\n",
      " 24\t    0.0373\t    0.0327\t    0.0240\t    0.0382\t      6.48\n",
      " 25\t    0.0319\t    0.0326\t    0.0277\t    0.0382\t      6.45\n",
      "\u001a\u001a 0.206073 \u001a\u001a\n"
     ]
    }
   ],
   "source": [
    "[x history] = basis_pursuit(A, b, 1.0, 1.0);"
   ]
  },
  {
   "cell_type": "code",
   "execution_count": null,
   "id": "ff393be8",
   "metadata": {},
   "outputs": [],
   "source": []
  },
  {
   "cell_type": "markdown",
   "id": "934a6e21",
   "metadata": {},
   "source": [
    "### Reporting"
   ]
  },
  {
   "cell_type": "code",
   "execution_count": 8,
   "id": "60d8e547",
   "metadata": {},
   "outputs": [
    {
     "data": {
      "image/png": "[encoded data removed]",
      "text/plain": [
       "<IPython.core.display.Image object>"
      ]
     },
     "metadata": {},
     "output_type": "display_data"
    },
    {
     "data": {
      "image/png": "[encoded data removed]",
      "text/plain": [
       "<IPython.core.display.Image object>"
      ]
     },
     "metadata": {},
     "output_type": "display_data"
    }
   ],
   "source": [
    "K = length(history.objval);\n",
    "\n",
    "h = figure;\n",
    "plot(1:K, history.objval, 'k', 'MarkerSize', 10, 'LineWidth', 2);\n",
    "ylabel('f(x^k) + g(z^k)'); xlabel('iter (k)');\n",
    "\n",
    "g = figure;\n",
    "subplot(2,1,1);\n",
    "semilogy(1:K, max(1e-8, history.r_norm), 'k', ...\n",
    "    1:K, history.eps_pri, 'k--',  'LineWidth', 2);\n",
    "ylabel('||r||_2');\n",
    "\n",
    "subplot(2,1,2);\n",
    "semilogy(1:K, max(1e-8, history.s_norm), 'k', ...\n",
    "    1:K, history.eps_dual, 'k--', 'LineWidth', 2);\n",
    "ylabel('||s||_2'); xlabel('iter (k)');"
   ]
  },
  {
   "cell_type": "code",
   "execution_count": null,
   "id": "685fe3f0",
   "metadata": {},
   "outputs": [],
   "source": []
  },
  {
   "cell_type": "code",
   "execution_count": null,
   "id": "c40948a1",
   "metadata": {},
   "outputs": [],
   "source": []
  }
 ],
 "metadata": {
  "kernelspec": {
   "display_name": "Matlab",
   "language": "matlab",
   "name": "matlab"
  },
  "language_info": {
   "codemirror_mode": "octave",
   "file_extension": ".m",
   "help_links": [
    {
     "text": "MetaKernel Magics",
     "url": "https://metakernel.readthedocs.io/en/latest/source/README.html"
    }
   ],
   "mimetype": "text/x-octave",
   "name": "matlab",
   "version": "0.16.11"
  }
 },
 "nbformat": 4,
 "nbformat_minor": 5
}
