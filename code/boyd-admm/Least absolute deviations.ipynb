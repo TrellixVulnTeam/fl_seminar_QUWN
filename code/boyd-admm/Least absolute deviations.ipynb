{
 "cells": [
  {
   "cell_type": "markdown",
   "id": "75d5c9d0",
   "metadata": {},
   "source": [
    "## from https://web.stanford.edu/~boyd/papers/admm/"
   ]
  },
  {
   "cell_type": "code",
   "execution_count": null,
   "id": "31f0ef68",
   "metadata": {},
   "outputs": [],
   "source": []
  },
  {
   "cell_type": "markdown",
   "id": "4988c369",
   "metadata": {},
   "source": [
    "# Code"
   ]
  },
  {
   "cell_type": "code",
   "execution_count": null,
   "id": "ee077a47",
   "metadata": {},
   "outputs": [],
   "source": []
  },
  {
   "cell_type": "code",
   "execution_count": 1,
   "id": "246bd86f",
   "metadata": {},
   "outputs": [
    {
     "name": "stdout",
     "output_type": "stream",
     "text": [
      "\n",
      "code =\n",
      "\n",
      "    'function [x, history] = lad(A, b, rho, alpha)\n",
      "     % lad  Least absolute deviations fitting via ADMM\n",
      "     %\n",
      "     % [x, history] = lad(A, b, rho, alpha)\n",
      "     % \n",
      "     % Solves the following problem via ADMM:\n",
      "     % \n",
      "     %   minimize     ||Ax - b||_1\n",
      "     %\n",
      "     % The solution is returned in the vector x.\n",
      "     %\n",
      "     % history is a structure that contains the objective value, the primal and \n",
      "     % dual residual norms, and the tolerances for the primal and dual residual \n",
      "     % norms at each iteration.\n",
      "     % \n",
      "     % rho is the augmented Lagrangian parameter. \n",
      "     %\n",
      "     % alpha is the over-relaxation parameter (typical values for alpha are \n",
      "     % between 1.0 and 1.8).\n",
      "     %\n",
      "     %\n",
      "     % More information can be found in the paper linked at:\n",
      "     % http://www.stanford.edu/~boyd/papers/distr_opt_stat_learning_admm.html\n",
      "     %\n",
      "     \n",
      "     t_start = tic;\n",
      "     \n",
      "     %% Global constants and defaults\n",
      "     \n",
      "     QUIET    = 0;\n",
      "     MAX_ITER = 1000;\n",
      "     ABSTOL   = 1e-4;\n",
      "     RELTOL   = 1e-2;\n",
      "     \n",
      "     [m n] = size(A);\n",
      "     \n",
      "     %% ADMM solver\n",
      "     \n",
      "     x = zeros(n,1);\n",
      "     z = zeros(m,1);\n",
      "     u = zeros(m,1);\n",
      "     \n",
      "     if ~QUIET\n",
      "         fprintf('%3s\\t%10s\\t%10s\\t%10s\\t%10s\\t%10s\\n', 'iter', ...\n",
      "           'r norm', 'eps pri', 's norm', 'eps dual', 'objective');\n",
      "     end\n",
      "     \n",
      "     for k = 1:MAX_ITER\n",
      "     \n",
      "         if k > 1\n",
      "             x = R \\ (R' \\ (A'*(b + z - u)));\n",
      "         else\n",
      "             R = chol(A'*A);\n",
      "             x = R \\ (R' \\ (A'*(b + z - u)));\n",
      "         end\n",
      "     \n",
      "         zold = z;\n",
      "         Ax_hat = alpha*A*x + (1-alpha)*(zold + b);\n",
      "         z = shrinkage(Ax_hat - b + u, 1/rho);\n",
      "     \n",
      "         u = u + (Ax_hat - z - b);\n",
      "     \n",
      "         % diagnostics, reporting, termination checks\n",
      "     \n",
      "         history.objval(k)  = objective(z);\n",
      "         \n",
      "         history.r_norm(k)  = norm(A*x - z - b);\n",
      "         history.s_norm(k)  = norm(-rho*A'*(z - zold));\n",
      "     \n",
      "         history.eps_pri(k) = sqrt(m)*ABSTOL + RELTOL*max([norm(A*x), norm(-z), norm(b)]);\n",
      "         history.eps_dual(k)= sqrt(n)*ABSTOL + RELTOL*norm(rho*A'*u);\n",
      "         \n",
      "         if ~QUIET\n",
      "             fprintf('%3d\\t%10.4f\\t%10.4f\\t%10.4f\\t%10.4f\\t%10.2f\\n', k, ...\n",
      "                 history.r_norm(k), history.eps_pri(k), ...\n",
      "                 history.s_norm(k), history.eps_dual(k), history.objval(k));\n",
      "         end\n",
      "     \n",
      "         if (history.r_norm(k) < history.eps_pri(k) && ...\n",
      "            history.s_norm(k) < history.eps_dual(k))\n",
      "              break;\n",
      "         end\n",
      "     end\n",
      "     \n",
      "     if ~QUIET\n",
      "         toc(t_start);\n",
      "     end\n",
      "     \n",
      "     end\n",
      "     \n",
      "     function obj = objective(z)\n",
      "         obj = norm(z,1);\n",
      "     end\n",
      "     \n",
      "     function y = shrinkage(a, kappa)\n",
      "         y = max(0, a-kappa) - max(0, -a-kappa);\n",
      "     end\n",
      "     '\n",
      "\n"
     ]
    }
   ],
   "source": [
    "code = grabcode(\"https://web.stanford.edu/~boyd/papers/admm/least_abs_deviations/lad.html\")"
   ]
  },
  {
   "cell_type": "code",
   "execution_count": null,
   "id": "20a2df02",
   "metadata": {},
   "outputs": [],
   "source": []
  },
  {
   "cell_type": "code",
   "execution_count": 2,
   "id": "669636c8",
   "metadata": {},
   "outputs": [
    {
     "name": "stdout",
     "output_type": "stream",
     "text": [
      "Created file '/home/wenh06/Jupyter/wenhao/workspace/fl_seminar/code/boyd-admm/lad.m'.\n"
     ]
    }
   ],
   "source": [
    "%%file lad.m\n",
    "\n",
    "function [x, history] = lad(A, b, rho, alpha)\n",
    "% lad  Least absolute deviations fitting via ADMM\n",
    "%\n",
    "% [x, history] = lad(A, b, rho, alpha)\n",
    "%\n",
    "% Solves the following problem via ADMM:\n",
    "%\n",
    "%   minimize     ||Ax - b||_1\n",
    "%\n",
    "% The solution is returned in the vector x.\n",
    "%\n",
    "% history is a structure that contains the objective value, the primal and\n",
    "% dual residual norms, and the tolerances for the primal and dual residual\n",
    "% norms at each iteration.\n",
    "%\n",
    "% rho is the augmented Lagrangian parameter.\n",
    "%\n",
    "% alpha is the over-relaxation parameter (typical values for alpha are\n",
    "% between 1.0 and 1.8).\n",
    "%\n",
    "%\n",
    "% More information can be found in the paper linked at:\n",
    "% http://www.stanford.edu/~boyd/papers/distr_opt_stat_learning_admm.html\n",
    "%\n",
    "\n",
    "t_start = tic;\n",
    "\n",
    "%% Global constants and defaults\n",
    "\n",
    "QUIET    = 0;\n",
    "MAX_ITER = 1000;\n",
    "ABSTOL   = 1e-4;\n",
    "RELTOL   = 1e-2;\n",
    "\n",
    "[m n] = size(A);\n",
    "\n",
    "%% ADMM solver\n",
    "\n",
    "x = zeros(n,1);\n",
    "z = zeros(m,1);\n",
    "u = zeros(m,1);\n",
    "\n",
    "if ~QUIET\n",
    "    fprintf('%3s\\t%10s\\t%10s\\t%10s\\t%10s\\t%10s\\n', 'iter', ...\n",
    "      'r norm', 'eps pri', 's norm', 'eps dual', 'objective');\n",
    "end\n",
    "\n",
    "for k = 1:MAX_ITER\n",
    "\n",
    "    if k > 1\n",
    "        x = R \\ (R' \\ (A'*(b + z - u)));\n",
    "    else\n",
    "        R = chol(A'*A);\n",
    "        x = R \\ (R' \\ (A'*(b + z - u)));\n",
    "    end\n",
    "\n",
    "    zold = z;\n",
    "    Ax_hat = alpha*A*x + (1-alpha)*(zold + b);\n",
    "    z = shrinkage(Ax_hat - b + u, 1/rho);\n",
    "\n",
    "    u = u + (Ax_hat - z - b);\n",
    "\n",
    "    % diagnostics, reporting, termination checks\n",
    "\n",
    "    history.objval(k)  = objective(z);\n",
    "\n",
    "    history.r_norm(k)  = norm(A*x - z - b);\n",
    "    history.s_norm(k)  = norm(-rho*A'*(z - zold));\n",
    "\n",
    "    history.eps_pri(k) = sqrt(m)*ABSTOL + RELTOL*max([norm(A*x), norm(-z), norm(b)]);\n",
    "    history.eps_dual(k)= sqrt(n)*ABSTOL + RELTOL*norm(rho*A'*u);\n",
    "\n",
    "    if ~QUIET\n",
    "        fprintf('%3d\\t%10.4f\\t%10.4f\\t%10.4f\\t%10.4f\\t%10.2f\\n', k, ...\n",
    "            history.r_norm(k), history.eps_pri(k), ...\n",
    "            history.s_norm(k), history.eps_dual(k), history.objval(k));\n",
    "    end\n",
    "\n",
    "    if (history.r_norm(k) < history.eps_pri(k) && ...\n",
    "       history.s_norm(k) < history.eps_dual(k))\n",
    "         break;\n",
    "    end\n",
    "end\n",
    "\n",
    "if ~QUIET\n",
    "    toc(t_start);\n",
    "end\n",
    "end\n",
    "\n",
    "function obj = objective(z)\n",
    "    obj = norm(z,1);\n",
    "end\n",
    "\n",
    "function y = shrinkage(a, kappa)\n",
    "    y = max(0, a-kappa) - max(0, -a-kappa);\n",
    "end"
   ]
  },
  {
   "cell_type": "code",
   "execution_count": null,
   "id": "3d166cee",
   "metadata": {},
   "outputs": [],
   "source": []
  },
  {
   "cell_type": "code",
   "execution_count": null,
   "id": "7b71cde0",
   "metadata": {},
   "outputs": [],
   "source": []
  },
  {
   "cell_type": "markdown",
   "id": "6f7343ff",
   "metadata": {},
   "source": [
    "# Example"
   ]
  },
  {
   "cell_type": "code",
   "execution_count": 3,
   "id": "ac61a13d",
   "metadata": {},
   "outputs": [
    {
     "name": "stdout",
     "output_type": "stream",
     "text": [
      "\n",
      "eg_code =\n",
      "\n",
      "    '% Least absolute deviations example\n",
      "     \n",
      "     %% Generate problem data\n",
      "     rand('seed', 0);\n",
      "     randn('seed', 0);\n",
      "     \n",
      "     m = 1000; % number of examples\n",
      "     n = 100;  % number of features\n",
      "     \n",
      "     A = randn(m,n);\n",
      "     x0 = 10*randn(n,1);\n",
      "     b = A*x0;\n",
      "     idx = randsample(m,ceil(m/50));\n",
      "     b(idx) = b(idx) + 1e2*randn(size(idx));\n",
      "     \n",
      "     %% Solve problem\n",
      "     \n",
      "     [x history] = lad(A, b, 1.0, 1.0);\n",
      "     \n",
      "     %% Reporting\n",
      "     K = length(history.objval);                                                                                                        \n",
      "     \n",
      "     h = figure;\n",
      "     plot(1:K, history.objval, 'k', 'MarkerSize', 10, 'LineWidth', 2); \n",
      "     ylabel('f(x^k) + g(z^k)'); xlabel('iter (k)');\n",
      "     \n",
      "     g = figure;\n",
      "     subplot(2,1,1);                                                                                                                    \n",
      "     semilogy(1:K, max(1e-8, history.r_norm), 'k', ...\n",
      "         1:K, history.eps_pri, 'k--',  'LineWidth', 2); \n",
      "     ylabel('||r||_2'); \n",
      "     \n",
      "     subplot(2,1,2);                                                                                                                    \n",
      "     semilogy(1:K, max(1e-8, history.s_norm), 'k', ...\n",
      "         1:K, history.eps_dual, 'k--', 'LineWidth', 2);   \n",
      "     ylabel('||s||_2'); xlabel('iter (k)'); \n",
      "     '\n",
      "\n"
     ]
    }
   ],
   "source": [
    "eg_code = grabcode(\"https://web.stanford.edu/~boyd/papers/admm/least_abs_deviations/lad_example.html\")"
   ]
  },
  {
   "cell_type": "code",
   "execution_count": null,
   "id": "699f66e6",
   "metadata": {},
   "outputs": [],
   "source": []
  },
  {
   "cell_type": "markdown",
   "id": "30316a58",
   "metadata": {},
   "source": [
    "### Generate problem data"
   ]
  },
  {
   "cell_type": "code",
   "execution_count": 4,
   "id": "cdd01109",
   "metadata": {},
   "outputs": [],
   "source": [
    "rand('seed', 0);\n",
    "randn('seed', 0);\n",
    "\n",
    "m = 1000; % number of examples\n",
    "n = 100;  % number of features\n",
    "\n",
    "A = randn(m,n);\n",
    "x0 = 10*randn(n,1);\n",
    "b = A*x0;\n",
    "idx = randsample(m,ceil(m/50));\n",
    "b(idx) = b(idx) + 1e2*randn(size(idx));"
   ]
  },
  {
   "cell_type": "code",
   "execution_count": null,
   "id": "95740c65",
   "metadata": {},
   "outputs": [],
   "source": []
  },
  {
   "cell_type": "markdown",
   "id": "d62aa636",
   "metadata": {},
   "source": [
    "### Solve problem"
   ]
  },
  {
   "cell_type": "code",
   "execution_count": 5,
   "id": "61869e4d",
   "metadata": {},
   "outputs": [
    {
     "name": "stdout",
     "output_type": "stream",
     "text": [
      "iter\t    r norm\t   eps pri\t    s norm\t  eps dual\t objective\n",
      "  1\t   30.1596\t   34.3292\t  690.6743\t    6.9077\t   4773.18\n",
      "  2\t    3.7155\t   34.3292\t  688.4685\t    6.8857\t   4637.05\n",
      "  3\t    3.0866\t   34.3292\t  682.3849\t    6.8248\t   4152.80\n",
      "  4\t    3.8887\t   34.3292\t  671.2751\t    6.7138\t   3675.84\n",
      "  5\t    4.5094\t   34.3292\t  656.2406\t    6.5634\t   3222.49\n",
      "  6\t    5.0494\t   34.3292\t  641.7290\t    6.4183\t   2786.84\n",
      "  7\t    4.9828\t   34.3292\t  630.5902\t    6.3069\t   2372.09\n",
      "  8\t    4.7762\t   34.3292\t  610.1365\t    6.1024\t   1993.60\n",
      "  9\t   10.4738\t   34.3292\t  377.8906\t    3.7799\t   1798.79\n",
      " 10\t   12.5191\t   34.3292\t   28.8587\t    0.2896\t   1790.43\n",
      " 11\t    2.1989\t   34.3292\t   42.5469\t    0.4265\t   1780.46\n",
      " 12\t    0.9115\t   34.3292\t   18.6326\t    0.1873\t   1776.38\n",
      " 13\t    0.7020\t   34.3292\t    1.3172\t    0.0142\t   1776.70\n",
      " 14\t    0.0953\t   34.3292\t    3.3369\t    0.0344\t   1777.30\n",
      " 15\t    0.0848\t   34.3292\t    1.0074\t    0.0111\t   1777.44\n",
      " 16\t    0.0440\t   34.3292\t    0.2302\t    0.0033\t   1777.39\n",
      " 17\t    0.0023\t   34.3292\t    0.2495\t    0.0035\t   1777.36\n",
      " 18\t    0.0072\t   34.3292\t    0.0494\t    0.0015\t   1777.35\n",
      " 19\t    0.0027\t   34.3292\t    0.0264\t    0.0013\t   1777.36\n",
      " 20\t    0.0003\t   34.3292\t    0.0176\t    0.0012\t   1777.36\n",
      " 21\t    0.0006\t   34.3292\t    0.0017\t    0.0010\t   1777.36\n",
      " 22\t    0.0001\t   34.3292\t    0.0025\t    0.0010\t   1777.36\n",
      " 23\t    0.0000\t   34.3292\t    0.0012\t    0.0010\t   1777.36\n",
      " 24\t    0.0000\t   34.3292\t    0.0001\t    0.0010\t   1777.36\n",
      "\u001a\u001a 0.127035 \u001a\u001a\n"
     ]
    }
   ],
   "source": [
    "[x history] = lad(A, b, 1.0, 1.0);"
   ]
  },
  {
   "cell_type": "code",
   "execution_count": null,
   "id": "73abb68b",
   "metadata": {},
   "outputs": [],
   "source": []
  },
  {
   "cell_type": "markdown",
   "id": "c6305354",
   "metadata": {},
   "source": [
    "### Reporting"
   ]
  },
  {
   "cell_type": "code",
   "execution_count": 6,
   "id": "318ca412",
   "metadata": {},
   "outputs": [
    {
     "data": {
      "image/png": "[encoded data removed]",
      "text/plain": [
       "<IPython.core.display.Image object>"
      ]
     },
     "metadata": {},
     "output_type": "display_data"
    },
    {
     "data": {
      "image/png": "[encoded data removed]",
      "text/plain": [
       "<IPython.core.display.Image object>"
      ]
     },
     "metadata": {},
     "output_type": "display_data"
    }
   ],
   "source": [
    "K = length(history.objval);\n",
    "\n",
    "h = figure;\n",
    "plot(1:K, history.objval, 'k', 'MarkerSize', 10, 'LineWidth', 2);\n",
    "ylabel('f(x^k) + g(z^k)'); xlabel('iter (k)');\n",
    "\n",
    "g = figure;\n",
    "subplot(2,1,1);\n",
    "semilogy(1:K, max(1e-8, history.r_norm), 'k', ...\n",
    "    1:K, history.eps_pri, 'k--',  'LineWidth', 2);\n",
    "ylabel('||r||_2');\n",
    "\n",
    "subplot(2,1,2);\n",
    "semilogy(1:K, max(1e-8, history.s_norm), 'k', ...\n",
    "    1:K, history.eps_dual, 'k--', 'LineWidth', 2);\n",
    "ylabel('||s||_2'); xlabel('iter (k)');"
   ]
  },
  {
   "cell_type": "code",
   "execution_count": null,
   "id": "e15cddc8",
   "metadata": {},
   "outputs": [],
   "source": []
  },
  {
   "cell_type": "code",
   "execution_count": null,
   "id": "1ac3f4e4",
   "metadata": {},
   "outputs": [],
   "source": []
  },
  {
   "cell_type": "code",
   "execution_count": null,
   "id": "8d3254e5",
   "metadata": {},
   "outputs": [],
   "source": []
  }
 ],
 "metadata": {
  "kernelspec": {
   "display_name": "Matlab",
   "language": "matlab",
   "name": "matlab"
  },
  "language_info": {
   "codemirror_mode": "octave",
   "file_extension": ".m",
   "help_links": [
    {
     "text": "MetaKernel Magics",
     "url": "https://metakernel.readthedocs.io/en/latest/source/README.html"
    }
   ],
   "mimetype": "text/x-octave",
   "name": "matlab",
   "version": "0.16.11"
  }
 },
 "nbformat": 4,
 "nbformat_minor": 5
}
