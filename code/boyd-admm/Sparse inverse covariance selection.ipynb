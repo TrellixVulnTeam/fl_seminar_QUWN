{
 "cells": [
  {
   "cell_type": "markdown",
   "id": "43f4dfaf",
   "metadata": {},
   "source": [
    "# Code"
   ]
  },
  {
   "cell_type": "code",
   "execution_count": 1,
   "id": "3a23c3cf",
   "metadata": {},
   "outputs": [
    {
     "name": "stdout",
     "output_type": "stream",
     "text": [
      "\n",
      "code =\n",
      "\n",
      "    'function [Z, history] = covsel(D, lambda, rho, alpha)\n",
      "     % covsel  Sparse inverse covariance selection via ADMM\n",
      "     %\n",
      "     % [X, history] = covsel(D, lambda, rho, alpha)\n",
      "     % \n",
      "     % Solves the following problem via ADMM:\n",
      "     % \n",
      "     %   minimize  trace(S*X) - log det X + lambda*||X||_1\n",
      "     %\n",
      "     % with variable X, where S is the empirical covariance of the data\n",
      "     % matrix D (training observations by features).\n",
      "     %\n",
      "     % The solution is returned in the matrix X.\n",
      "     %\n",
      "     % history is a structure that contains the objective value, the primal and \n",
      "     % dual residual norms, and the tolerances for the primal and dual residual \n",
      "     % norms at each iteration.\n",
      "     % \n",
      "     % rho is the augmented Lagrangian parameter. \n",
      "     %\n",
      "     % alpha is the over-relaxation parameter (typical values for alpha are \n",
      "     % between 1.0 and 1.8).\n",
      "     % \n",
      "     % More information can be found in the paper linked at:\n",
      "     % http://www.stanford.edu/~boyd/papers/distr_opt_stat_learning_admm.html\n",
      "     %\n",
      "     \n",
      "     t_start = tic;\n",
      "     \n",
      "     %% Global constants and defaults\n",
      "     \n",
      "     QUIET    = 0;\n",
      "     MAX_ITER = 1000;\n",
      "     ABSTOL   = 1e-4;\n",
      "     RELTOL   = 1e-2;\n",
      "     \n",
      "     %% Data preprocessing\n",
      "     \n",
      "     S = cov(D);\n",
      "     n = size(S,1);\n",
      "     \n",
      "     %% ADMM solver\n",
      "     \n",
      "     X = zeros(n);\n",
      "     Z = zeros(n);\n",
      "     U = zeros(n);\n",
      "     \n",
      "     if ~QUIET\n",
      "         fprintf('%3s\\t%10s\\t%10s\\t%10s\\t%10s\\t%10s\\n', 'iter', ...\n",
      "           'r norm', 'eps pri', 's norm', 'eps dual', 'objective');\n",
      "     end\n",
      "     \n",
      "     for k = 1:MAX_ITER\n",
      "         \n",
      "         % x-update\n",
      "         [Q,L] = eig(rho*(Z - U) - S);\n",
      "         es = diag(L);\n",
      "         xi = (es + sqrt(es.^2 + 4*rho))./(2*rho);\n",
      "         X = Q*diag(xi)*Q';\n",
      "         \n",
      "         % z-update with relaxation\n",
      "         Zold = Z;\n",
      "         X_hat = alpha*X + (1 - alpha)*Zold;\n",
      "         Z = shrinkage(X_hat + U, lambda/rho);\n",
      "     \n",
      "         U = U + (X_hat - Z);\n",
      "     \n",
      "         % diagnostics, reporting, termination checks\n",
      "     \n",
      "         history.objval(k)  = objective(S, X, Z, lambda);\n",
      "         \n",
      "         history.r_norm(k)  = norm(X - Z, 'fro');\n",
      "         history.s_norm(k)  = norm(-rho*(Z - Zold),'fro');\n",
      "         \n",
      "         history.eps_pri(k) = sqrt(n*n)*ABSTOL + RELTOL*max(norm(X,'fro'), norm(Z,'fro'));\n",
      "         history.eps_dual(k)= sqrt(n*n)*ABSTOL + RELTOL*norm(rho*U,'fro');\n",
      "     \n",
      "     \n",
      "         if ~QUIET\n",
      "             fprintf('%3d\\t%10.4f\\t%10.4f\\t%10.4f\\t%10.4f\\t%10.2f\\n', k, ...\n",
      "                 history.r_norm(k), history.eps_pri(k), ...\n",
      "                 history.s_norm(k), history.eps_dual(k), history.objval(k));\n",
      "         end\n",
      "     \n",
      "         if (history.r_norm(k) < history.eps_pri(k) && ...\n",
      "            history.s_norm(k) < history.eps_dual(k))\n",
      "              break;\n",
      "         end\n",
      "     end\n",
      "     \n",
      "     if ~QUIET\n",
      "         toc(t_start);\n",
      "     end\n",
      "     \n",
      "     end\n",
      "     \n",
      "     function obj = objective(S, X, Z, lambda)\n",
      "         obj = trace(S*X) - log(det(X)) + lambda*norm(Z(:), 1);\n",
      "     end\n",
      "     \n",
      "     function y = shrinkage(a, kappa)\n",
      "         y = max(0, a-kappa) - max(0, -a-kappa);\n",
      "     end\n",
      "     '\n",
      "\n"
     ]
    }
   ],
   "source": [
    "code = grabcode(\"https://web.stanford.edu/~boyd/papers/admm/covsel/covsel.html\")"
   ]
  },
  {
   "cell_type": "code",
   "execution_count": null,
   "id": "c5c3cad4",
   "metadata": {},
   "outputs": [],
   "source": []
  },
  {
   "cell_type": "code",
   "execution_count": 2,
   "id": "f9e7b69f",
   "metadata": {},
   "outputs": [
    {
     "name": "stdout",
     "output_type": "stream",
     "text": [
      "Created file '/home/wenh06/Jupyter/wenhao/workspace/fl_seminar/code/boyd-admm/covsel.m'.\n"
     ]
    }
   ],
   "source": [
    "%%file covsel.m\n",
    "\n",
    "function [Z, history] = covsel(D, lambda, rho, alpha)\n",
    "% covsel  Sparse inverse covariance selection via ADMM\n",
    "%\n",
    "% [X, history] = covsel(D, lambda, rho, alpha)\n",
    "% \n",
    "% Solves the following problem via ADMM:\n",
    "% \n",
    "%   minimize  trace(S*X) - log det X + lambda*||X||_1\n",
    "%\n",
    "% with variable X, where S is the empirical covariance of the data\n",
    "% matrix D (training observations by features).\n",
    "%\n",
    "% The solution is returned in the matrix X.\n",
    "%\n",
    "% history is a structure that contains the objective value, the primal and \n",
    "% dual residual norms, and the tolerances for the primal and dual residual \n",
    "% norms at each iteration.\n",
    "% \n",
    "% rho is the augmented Lagrangian parameter. \n",
    "%\n",
    "% alpha is the over-relaxation parameter (typical values for alpha are \n",
    "% between 1.0 and 1.8).\n",
    "% \n",
    "% More information can be found in the paper linked at:\n",
    "% http://www.stanford.edu/~boyd/papers/distr_opt_stat_learning_admm.html\n",
    "%\n",
    "\n",
    "t_start = tic;\n",
    "\n",
    "%% Global constants and defaults\n",
    "\n",
    "QUIET    = 0;\n",
    "MAX_ITER = 1000;\n",
    "ABSTOL   = 1e-4;\n",
    "RELTOL   = 1e-2;\n",
    "\n",
    "%% Data preprocessing\n",
    "\n",
    "S = cov(D);\n",
    "n = size(S,1);\n",
    "\n",
    "%% ADMM solver\n",
    "\n",
    "X = zeros(n);\n",
    "Z = zeros(n);\n",
    "U = zeros(n);\n",
    "\n",
    "if ~QUIET\n",
    " fprintf('%3s\\t%10s\\t%10s\\t%10s\\t%10s\\t%10s\\n', 'iter', ...\n",
    "   'r norm', 'eps pri', 's norm', 'eps dual', 'objective');\n",
    "end\n",
    "\n",
    "for k = 1:MAX_ITER\n",
    "\n",
    " % x-update\n",
    " [Q,L] = eig(rho*(Z - U) - S);\n",
    " es = diag(L);\n",
    " xi = (es + sqrt(es.^2 + 4*rho))./(2*rho);\n",
    " X = Q*diag(xi)*Q';\n",
    "\n",
    " % z-update with relaxation\n",
    " Zold = Z;\n",
    " X_hat = alpha*X + (1 - alpha)*Zold;\n",
    " Z = shrinkage(X_hat + U, lambda/rho);\n",
    "\n",
    " U = U + (X_hat - Z);\n",
    "\n",
    " % diagnostics, reporting, termination checks\n",
    "\n",
    " history.objval(k)  = objective(S, X, Z, lambda);\n",
    "\n",
    " history.r_norm(k)  = norm(X - Z, 'fro');\n",
    " history.s_norm(k)  = norm(-rho*(Z - Zold),'fro');\n",
    "\n",
    " history.eps_pri(k) = sqrt(n*n)*ABSTOL + RELTOL*max(norm(X,'fro'), norm(Z,'fro'));\n",
    " history.eps_dual(k)= sqrt(n*n)*ABSTOL + RELTOL*norm(rho*U,'fro');\n",
    "\n",
    "\n",
    " if ~QUIET\n",
    "     fprintf('%3d\\t%10.4f\\t%10.4f\\t%10.4f\\t%10.4f\\t%10.2f\\n', k, ...\n",
    "         history.r_norm(k), history.eps_pri(k), ...\n",
    "         history.s_norm(k), history.eps_dual(k), history.objval(k));\n",
    " end\n",
    "\n",
    " if (history.r_norm(k) < history.eps_pri(k) && ...\n",
    "    history.s_norm(k) < history.eps_dual(k))\n",
    "      break;\n",
    " end\n",
    "end\n",
    "\n",
    "if ~QUIET\n",
    " toc(t_start);\n",
    "end\n",
    "\n",
    "end\n",
    "\n",
    "function obj = objective(S, X, Z, lambda)\n",
    " obj = trace(S*X) - log(det(X)) + lambda*norm(Z(:), 1);\n",
    "end\n",
    "\n",
    "function y = shrinkage(a, kappa)\n",
    " y = max(0, a-kappa) - max(0, -a-kappa);\n",
    "end"
   ]
  },
  {
   "cell_type": "code",
   "execution_count": null,
   "id": "7fc030d2",
   "metadata": {},
   "outputs": [],
   "source": []
  },
  {
   "cell_type": "code",
   "execution_count": null,
   "id": "c05a3205",
   "metadata": {},
   "outputs": [],
   "source": []
  },
  {
   "cell_type": "markdown",
   "id": "e69953dc",
   "metadata": {},
   "source": [
    "# Examples"
   ]
  },
  {
   "cell_type": "code",
   "execution_count": 3,
   "id": "273b8243",
   "metadata": {
    "scrolled": true
   },
   "outputs": [
    {
     "name": "stdout",
     "output_type": "stream",
     "text": [
      "\n",
      "code =\n",
      "\n",
      "    '% Sparse inverse covariance selection with Gaussian samples\n",
      "     \n",
      "     %% Generate problem data\n",
      "     randn('seed', 0);\n",
      "     rand('seed', 0);\n",
      "     \n",
      "     n = 100;   % number of features \n",
      "     N = 10*n;  % number of samples\n",
      "     \n",
      "     % generate a sparse positive definite inverse covariance matrix\n",
      "     Sinv      = diag(abs(ones(n,1)));\n",
      "     idx       = randsample(n^2, 0.001*n^2);\n",
      "     Sinv(idx) = ones(numel(idx), 1);\n",
      "     Sinv = Sinv + Sinv';   % make symmetric\n",
      "     if min(eig(Sinv)) < 0  % make positive definite\n",
      "         Sinv = Sinv + 1.1*abs(min(eig(Sinv)))*eye(n);\n",
      "     end\n",
      "     S = inv(Sinv);\n",
      "     \n",
      "     % generate Gaussian samples\n",
      "     D = mvnrnd(zeros(1,n), S, N);\n",
      "     \n",
      "     %% Solve problem\n",
      "     \n",
      "     [X, history] = covsel(D, 0.01, 1, 1);\n",
      "     \n",
      "     %% Reporting\n",
      "     K = length(history.objval);                                                                                                        \n",
      "     X_admm = X;\n",
      "     \n",
      "     h = figure;\n",
      "     plot(1:K, history.objval, 'k', 'MarkerSize', 10, 'LineWidth', 2); \n",
      "     ylabel('f(x^k) + g(z^k)'); xlabel('iter (k)');\n",
      "     \n",
      "     g = figure;\n",
      "     subplot(2,1,1);                                                                                                                    \n",
      "     semilogy(1:K, max(1e-8, history.r_norm), 'k', ...\n",
      "         1:K, history.eps_pri, 'k--',  'LineWidth', 2); \n",
      "     ylabel('||r||_2'); \n",
      "     \n",
      "     subplot(2,1,2);                                                                                                                    \n",
      "     semilogy(1:K, max(1e-8, history.s_norm), 'k', ...\n",
      "         1:K, history.eps_dual, 'k--', 'LineWidth', 2);   \n",
      "     ylabel('||s||_2'); xlabel('iter (k)'); \n",
      "     '\n",
      "\n"
     ]
    }
   ],
   "source": [
    "code = grabcode(\"https://web.stanford.edu/~boyd/papers/admm/covsel/covsel_example.html\")"
   ]
  },
  {
   "cell_type": "code",
   "execution_count": null,
   "id": "52d6b535",
   "metadata": {},
   "outputs": [],
   "source": []
  },
  {
   "cell_type": "markdown",
   "id": "e304dab3",
   "metadata": {},
   "source": [
    "### Generate problem data"
   ]
  },
  {
   "cell_type": "code",
   "execution_count": 4,
   "id": "3635de7b",
   "metadata": {},
   "outputs": [],
   "source": [
    "randn('seed', 0);\n",
    "rand('seed', 0);\n",
    "\n",
    "n = 100;   % number of features \n",
    "N = 10*n;  % number of samples\n",
    "\n",
    "% generate a sparse positive definite inverse covariance matrix\n",
    "Sinv      = diag(abs(ones(n,1)));\n",
    "idx       = randsample(n^2, 0.001*n^2);\n",
    "Sinv(idx) = ones(numel(idx), 1);\n",
    "Sinv = Sinv + Sinv';   % make symmetric\n",
    "if min(eig(Sinv)) < 0  % make positive definite\n",
    " Sinv = Sinv + 1.1*abs(min(eig(Sinv)))*eye(n);\n",
    "end\n",
    "S = inv(Sinv);\n",
    "\n",
    "% generate Gaussian samples\n",
    "D = mvnrnd(zeros(1,n), S, N);"
   ]
  },
  {
   "cell_type": "code",
   "execution_count": null,
   "id": "cd13b70b",
   "metadata": {},
   "outputs": [],
   "source": []
  },
  {
   "cell_type": "markdown",
   "id": "9fdcb810",
   "metadata": {},
   "source": [
    "### Solve problem"
   ]
  },
  {
   "cell_type": "code",
   "execution_count": 5,
   "id": "73b01f53",
   "metadata": {},
   "outputs": [
    {
     "name": "stdout",
     "output_type": "stream",
     "text": [
      "iter\t    r norm\t   eps pri\t    s norm\t  eps dual\t objective\n",
      "  1\t    0.5604\t    0.0878\t    7.6521\t    0.0156\t     66.74\n",
      "  2\t    0.2677\t    0.1230\t    3.6651\t    0.0176\t     47.97\n",
      "  3\t    0.0890\t    0.1453\t    2.2727\t    0.0181\t     41.51\n",
      "  4\t    0.0341\t    0.1608\t    1.5731\t    0.0182\t     38.54\n",
      "  5\t    0.0223\t    0.1720\t    1.1563\t    0.0183\t     36.98\n",
      "  6\t    0.0193\t    0.1806\t    0.8831\t    0.0183\t     36.08\n",
      "  7\t    0.0168\t    0.1872\t    0.6927\t    0.0183\t     35.54\n",
      "  8\t    0.0147\t    0.1924\t    0.5544\t    0.0183\t     35.19\n",
      "  9\t    0.0126\t    0.1967\t    0.4507\t    0.0183\t     34.97\n",
      " 10\t    0.0110\t    0.2001\t    0.3710\t    0.0183\t     34.82\n",
      " 11\t    0.0092\t    0.2029\t    0.3087\t    0.0183\t     34.71\n",
      " 12\t    0.0079\t    0.2053\t    0.2592\t    0.0183\t     34.64\n",
      " 13\t    0.0074\t    0.2072\t    0.2192\t    0.0183\t     34.59\n",
      " 14\t    0.0060\t    0.2088\t    0.1867\t    0.0183\t     34.55\n",
      " 15\t    0.0051\t    0.2102\t    0.1600\t    0.0183\t     34.52\n",
      " 16\t    0.0044\t    0.2114\t    0.1378\t    0.0183\t     34.50\n",
      " 17\t    0.0036\t    0.2124\t    0.1192\t    0.0183\t     34.48\n",
      " 18\t    0.0031\t    0.2132\t    0.1036\t    0.0183\t     34.47\n",
      " 19\t    0.0028\t    0.2140\t    0.0904\t    0.0183\t     34.46\n",
      " 20\t    0.0025\t    0.2146\t    0.0792\t    0.0182\t     34.46\n",
      " 21\t    0.0023\t    0.2151\t    0.0696\t    0.0182\t     34.45\n",
      " 22\t    0.0019\t    0.2156\t    0.0613\t    0.0182\t     34.45\n",
      " 23\t    0.0016\t    0.2160\t    0.0542\t    0.0182\t     34.44\n",
      " 24\t    0.0014\t    0.2163\t    0.0480\t    0.0182\t     34.44\n",
      " 25\t    0.0013\t    0.2166\t    0.0426\t    0.0182\t     34.44\n",
      " 26\t    0.0011\t    0.2169\t    0.0379\t    0.0182\t     34.44\n",
      " 27\t    0.0012\t    0.2171\t    0.0337\t    0.0182\t     34.44\n",
      " 28\t    0.0040\t    0.2173\t    0.0299\t    0.0182\t     34.44\n",
      " 29\t    0.0021\t    0.2175\t    0.0265\t    0.0182\t     34.44\n",
      " 30\t    0.0013\t    0.2177\t    0.0236\t    0.0182\t     34.43\n",
      " 31\t    0.0009\t    0.2178\t    0.0211\t    0.0182\t     34.43\n",
      " 32\t    0.0008\t    0.2179\t    0.0188\t    0.0182\t     34.43\n",
      " 33\t    0.0007\t    0.2181\t    0.0169\t    0.0182\t     34.43\n",
      "\u001a\u001a 0.254317 \u001a\u001a\n"
     ]
    }
   ],
   "source": [
    "[X, history] = covsel(D, 0.01, 1, 1);"
   ]
  },
  {
   "cell_type": "code",
   "execution_count": null,
   "id": "35c07fcd",
   "metadata": {},
   "outputs": [],
   "source": []
  },
  {
   "cell_type": "markdown",
   "id": "08e05624",
   "metadata": {},
   "source": [
    "### Reporting"
   ]
  },
  {
   "cell_type": "code",
   "execution_count": 7,
   "id": "485dacb4",
   "metadata": {},
   "outputs": [
    {
     "data": {
      "image/png": "[encoded data removed]",
      "text/plain": [
       "<IPython.core.display.Image object>"
      ]
     },
     "metadata": {},
     "output_type": "display_data"
    },
    {
     "data": {
      "image/png": "[encoded data removed]",
      "text/plain": [
       "<IPython.core.display.Image object>"
      ]
     },
     "metadata": {},
     "output_type": "display_data"
    }
   ],
   "source": [
    "K = length(history.objval);\n",
    "X_admm = X;\n",
    "\n",
    "h = figure;\n",
    "plot(1:K, history.objval, 'k', 'MarkerSize', 10, 'LineWidth', 2);\n",
    "ylabel('f(x^k) + g(z^k)'); xlabel('iter (k)');\n",
    "\n",
    "g = figure;\n",
    "subplot(2,1,1);\n",
    "semilogy(1:K, max(1e-8, history.r_norm), 'k', ...\n",
    "    1:K, history.eps_pri, 'k--',  'LineWidth', 2);\n",
    "ylabel('||r||_2');\n",
    "\n",
    "subplot(2,1,2);\n",
    "semilogy(1:K, max(1e-8, history.s_norm), 'k', ...\n",
    "    1:K, history.eps_dual, 'k--', 'LineWidth', 2);\n",
    "ylabel('||s||_2'); xlabel('iter (k)');"
   ]
  },
  {
   "cell_type": "code",
   "execution_count": null,
   "id": "ed777384",
   "metadata": {},
   "outputs": [],
   "source": []
  },
  {
   "cell_type": "code",
   "execution_count": null,
   "id": "5cdaea8a",
   "metadata": {},
   "outputs": [],
   "source": []
  }
 ],
 "metadata": {
  "kernelspec": {
   "display_name": "Matlab",
   "language": "matlab",
   "name": "matlab"
  },
  "language_info": {
   "codemirror_mode": "octave",
   "file_extension": ".m",
   "help_links": [
    {
     "text": "MetaKernel Magics",
     "url": "https://metakernel.readthedocs.io/en/latest/source/README.html"
    }
   ],
   "mimetype": "text/x-octave",
   "name": "matlab",
   "version": "0.16.11"
  }
 },
 "nbformat": 4,
 "nbformat_minor": 5
}
