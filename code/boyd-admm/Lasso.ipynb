{
 "cells": [
  {
   "cell_type": "markdown",
   "id": "7e1c5689",
   "metadata": {},
   "source": [
    "## from https://web.stanford.edu/~boyd/papers/admm/"
   ]
  },
  {
   "cell_type": "code",
   "execution_count": null,
   "id": "35ec623c",
   "metadata": {},
   "outputs": [],
   "source": []
  },
  {
   "cell_type": "markdown",
   "id": "7a2dbff1",
   "metadata": {},
   "source": [
    "# Code"
   ]
  },
  {
   "cell_type": "code",
   "execution_count": 1,
   "id": "6d3f0ff4",
   "metadata": {},
   "outputs": [
    {
     "name": "stdout",
     "output_type": "stream",
     "text": [
      "\n",
      "code =\n",
      "\n",
      "    'function [z, history] = lasso(A, b, lambda, rho, alpha)\n",
      "     % lasso  Solve lasso problem via ADMM\n",
      "     %\n",
      "     % [z, history] = lasso(A, b, lambda, rho, alpha);\n",
      "     % \n",
      "     % Solves the following problem via ADMM:\n",
      "     %\n",
      "     %   minimize 1/2*|| Ax - b ||_2^2 + \\lambda || x ||_1\n",
      "     %\n",
      "     % The solution is returned in the vector x.\n",
      "     %\n",
      "     % history is a structure that contains the objective value, the primal and \n",
      "     % dual residual norms, and the tolerances for the primal and dual residual \n",
      "     % norms at each iteration.\n",
      "     % \n",
      "     % rho is the augmented Lagrangian parameter. \n",
      "     %\n",
      "     % alpha is the over-relaxation parameter (typical values for alpha are \n",
      "     % between 1.0 and 1.8).\n",
      "     %\n",
      "     %\n",
      "     % More information can be found in the paper linked at:\n",
      "     % http://www.stanford.edu/~boyd/papers/distr_opt_stat_learning_admm.html\n",
      "     %\n",
      "     \n",
      "     t_start = tic;\n",
      "     \n",
      "     %% Global constants and defaults\n",
      "     \n",
      "     QUIET    = 0;\n",
      "     MAX_ITER = 1000;\n",
      "     ABSTOL   = 1e-4;\n",
      "     RELTOL   = 1e-2;\n",
      "     \n",
      "     %% Data preprocessing\n",
      "     \n",
      "     [m, n] = size(A);\n",
      "     \n",
      "     % save a matrix-vector multiply\n",
      "     Atb = A'*b;\n",
      "     \n",
      "     %% ADMM solver\n",
      "     \n",
      "     x = zeros(n,1);\n",
      "     z = zeros(n,1);\n",
      "     u = zeros(n,1);\n",
      "     \n",
      "     % cache the factorization\n",
      "     [L U] = factor(A, rho);\n",
      "     \n",
      "     if ~QUIET\n",
      "         fprintf('%3s\\t%10s\\t%10s\\t%10s\\t%10s\\t%10s\\n', 'iter', ...\n",
      "           'r norm', 'eps pri', 's norm', 'eps dual', 'objective');\n",
      "     end\n",
      "     \n",
      "     for k = 1:MAX_ITER\n",
      "         \n",
      "         % x-update\n",
      "         q = Atb + rho*(z - u);    % temporary value\n",
      "         if( m >= n )    % if skinny\n",
      "            x = U \\ (L \\ q);\n",
      "         else            % if fat\n",
      "            x = q/rho - (A'*(U \\ ( L \\ (A*q) )))/rho^2;\n",
      "         end\n",
      "     \n",
      "         % z-update with relaxation\n",
      "         zold = z;\n",
      "         x_hat = alpha*x + (1 - alpha)*zold;\n",
      "         z = shrinkage(x_hat + u, lambda/rho);\n",
      "     \n",
      "         % u-update\n",
      "         u = u + (x_hat - z);\n",
      "         \n",
      "         % diagnostics, reporting, termination checks\n",
      "         history.objval(k)  = objective(A, b, lambda, x, z);\n",
      "     \n",
      "         history.r_norm(k)  = norm(x - z);\n",
      "         history.s_norm(k)  = norm(-rho*(z - zold));\n",
      "         \n",
      "         history.eps_pri(k) = sqrt(n)*ABSTOL + RELTOL*max(norm(x), norm(-z));\n",
      "         history.eps_dual(k)= sqrt(n)*ABSTOL + RELTOL*norm(rho*u);\n",
      "         \n",
      "         if ~QUIET\n",
      "             fprintf('%3d\\t%10.4f\\t%10.4f\\t%10.4f\\t%10.4f\\t%10.2f\\n', k, ...\n",
      "                 history.r_norm(k), history.eps_pri(k), ...\n",
      "                 history.s_norm(k), history.eps_dual(k), history.objval(k));\n",
      "         end\n",
      "     \n",
      "         if (history.r_norm(k) < history.eps_pri(k) && ...\n",
      "            history.s_norm(k) < history.eps_dual(k))\n",
      "              break;\n",
      "         end\n",
      "     \n",
      "     end\n",
      "     \n",
      "     if ~QUIET\n",
      "         toc(t_start);\n",
      "     end\n",
      "     \n",
      "     end\n",
      "     \n",
      "     function p = objective(A, b, lambda, x, z)\n",
      "         p = ( 1/2*sum((A*x - b).^2) + lambda*norm(z,1) );\n",
      "     end\n",
      "     \n",
      "     function z = shrinkage(x, kappa)\n",
      "         z = max( 0, x - kappa ) - max( 0, -x - kappa );\n",
      "     end\n",
      "     \n",
      "     function [L U] = factor(A, rho)\n",
      "         [m, n] = size(A);\n",
      "         if ( m >= n )    % if skinny\n",
      "            L = chol( A'*A + rho*speye(n), 'lower' );\n",
      "         else            % if fat\n",
      "            L = chol( speye(m) + 1/rho*(A*A'), 'lower' );\n",
      "         end\n",
      "         \n",
      "         % force matlab to recognize the upper / lower triangular structure\n",
      "         L = sparse(L);\n",
      "         U = sparse(L');\n",
      "     end\n",
      "     '\n",
      "\n"
     ]
    }
   ],
   "source": [
    "code = grabcode(\"https://web.stanford.edu/~boyd/papers/admm/lasso/lasso.html\")"
   ]
  },
  {
   "cell_type": "code",
   "execution_count": null,
   "id": "6530cd0a",
   "metadata": {},
   "outputs": [],
   "source": []
  },
  {
   "cell_type": "code",
   "execution_count": 2,
   "id": "317c3818",
   "metadata": {},
   "outputs": [
    {
     "name": "stdout",
     "output_type": "stream",
     "text": [
      "Created file '/home/wenh06/Jupyter/wenhao/workspace/fl_seminar/code/boyd-admm/lasso.m'.\n"
     ]
    }
   ],
   "source": [
    "%%file lasso.m\n",
    "\n",
    "function [z, history] = lasso(A, b, lambda, rho, alpha)\n",
    "% lasso  Solve lasso problem via ADMM\n",
    "%\n",
    "% [z, history] = lasso(A, b, lambda, rho, alpha);\n",
    "%\n",
    "% Solves the following problem via ADMM:\n",
    "%\n",
    "%   minimize 1/2*|| Ax - b ||_2^2 + \\lambda || x ||_1\n",
    "%\n",
    "% The solution is returned in the vector x.\n",
    "%\n",
    "% history is a structure that contains the objective value, the primal and\n",
    "% dual residual norms, and the tolerances for the primal and dual residual\n",
    "% norms at each iteration.\n",
    "%\n",
    "% rho is the augmented Lagrangian parameter.\n",
    "%\n",
    "% alpha is the over-relaxation parameter (typical values for alpha are\n",
    "% between 1.0 and 1.8).\n",
    "%\n",
    "%\n",
    "% More information can be found in the paper linked at:\n",
    "% http://www.stanford.edu/~boyd/papers/distr_opt_stat_learning_admm.html\n",
    "%\n",
    "\n",
    "t_start = tic;\n",
    "\n",
    "%% Global constants and defaults\n",
    "\n",
    "QUIET    = 0;\n",
    "MAX_ITER = 1000;\n",
    "ABSTOL   = 1e-4;\n",
    "RELTOL   = 1e-2;\n",
    "\n",
    "%% Data preprocessing\n",
    "\n",
    "[m, n] = size(A);\n",
    "\n",
    "% save a matrix-vector multiply\n",
    "Atb = A'*b;\n",
    "\n",
    "%% ADMM solver\n",
    "\n",
    "x = zeros(n,1);\n",
    "z = zeros(n,1);\n",
    "u = zeros(n,1);\n",
    "\n",
    "% cache the factorization\n",
    "[L U] = factor(A, rho);\n",
    "\n",
    "if ~QUIET\n",
    "    fprintf('%3s\\t%10s\\t%10s\\t%10s\\t%10s\\t%10s\\n', 'iter', ...\n",
    "      'r norm', 'eps pri', 's norm', 'eps dual', 'objective');\n",
    "end\n",
    "\n",
    "for k = 1:MAX_ITER\n",
    "\n",
    "    % x-update\n",
    "    q = Atb + rho*(z - u);    % temporary value\n",
    "    if( m >= n )    % if skinny\n",
    "       x = U \\ (L \\ q);\n",
    "    else            % if fat\n",
    "       x = q/rho - (A'*(U \\ ( L \\ (A*q) )))/rho^2;\n",
    "    end\n",
    "\n",
    "    % z-update with relaxation\n",
    "    zold = z;\n",
    "    x_hat = alpha*x + (1 - alpha)*zold;\n",
    "    z = shrinkage(x_hat + u, lambda/rho);\n",
    "\n",
    "    % u-update\n",
    "    u = u + (x_hat - z);\n",
    "\n",
    "    % diagnostics, reporting, termination checks\n",
    "    history.objval(k)  = objective(A, b, lambda, x, z);\n",
    "\n",
    "    history.r_norm(k)  = norm(x - z);\n",
    "    history.s_norm(k)  = norm(-rho*(z - zold));\n",
    "\n",
    "    history.eps_pri(k) = sqrt(n)*ABSTOL + RELTOL*max(norm(x), norm(-z));\n",
    "    history.eps_dual(k)= sqrt(n)*ABSTOL + RELTOL*norm(rho*u);\n",
    "\n",
    "    if ~QUIET\n",
    "        fprintf('%3d\\t%10.4f\\t%10.4f\\t%10.4f\\t%10.4f\\t%10.2f\\n', k, ...\n",
    "            history.r_norm(k), history.eps_pri(k), ...\n",
    "            history.s_norm(k), history.eps_dual(k), history.objval(k));\n",
    "    end\n",
    "\n",
    "    if (history.r_norm(k) < history.eps_pri(k) && ...\n",
    "       history.s_norm(k) < history.eps_dual(k))\n",
    "         break;\n",
    "    end\n",
    "\n",
    "end\n",
    "\n",
    "if ~QUIET\n",
    "    toc(t_start);\n",
    "end\n",
    "end\n",
    "\n",
    "function p = objective(A, b, lambda, x, z)\n",
    "    p = ( 1/2*sum((A*x - b).^2) + lambda*norm(z,1) );\n",
    "end\n",
    "\n",
    "function z = shrinkage(x, kappa)\n",
    "    z = max( 0, x - kappa ) - max( 0, -x - kappa );\n",
    "end\n",
    "\n",
    "function [L U] = factor(A, rho)\n",
    "    [m, n] = size(A);\n",
    "    if ( m >= n )    % if skinny\n",
    "       L = chol( A'*A + rho*speye(n), 'lower' );\n",
    "    else            % if fat\n",
    "       L = chol( speye(m) + 1/rho*(A*A'), 'lower' );\n",
    "    end\n",
    "\n",
    "    % force matlab to recognize the upper / lower triangular structure\n",
    "    L = sparse(L);\n",
    "    U = sparse(L');\n",
    "end"
   ]
  },
  {
   "cell_type": "code",
   "execution_count": null,
   "id": "ee94e1f0",
   "metadata": {},
   "outputs": [],
   "source": []
  },
  {
   "cell_type": "code",
   "execution_count": null,
   "id": "1a24e4f9",
   "metadata": {},
   "outputs": [],
   "source": []
  },
  {
   "cell_type": "markdown",
   "id": "00de152d",
   "metadata": {},
   "source": [
    "# Example"
   ]
  },
  {
   "cell_type": "code",
   "execution_count": 3,
   "id": "8b1283a3",
   "metadata": {},
   "outputs": [
    {
     "name": "stdout",
     "output_type": "stream",
     "text": [
      "\n",
      "eg_code =\n",
      "\n",
      "    '% L1-regularized least-squares example\n",
      "     \n",
      "     %% Generate problem data\n",
      "     \n",
      "     randn('seed', 0);\n",
      "     rand('seed',0);\n",
      "     \n",
      "     m = 1500;       % number of examples\n",
      "     n = 5000;       % number of features\n",
      "     p = 100/n;      % sparsity density  \n",
      "     \n",
      "     x0 = sprandn(n,1,p);\n",
      "     A = randn(m,n);\n",
      "     A = A*spdiags(1./sqrt(sum(A.^2))',0,n,n); % normalize columns\n",
      "     b = A*x0 + sqrt(0.001)*randn(m,1);\n",
      "     \n",
      "     lambda_max = norm( A'*b, 'inf' );\n",
      "     lambda = 0.1*lambda_max; \n",
      "     \n",
      "     %% Solve problem\n",
      "     \n",
      "     [x history] = lasso(A, b, lambda, 1.0, 1.0);\n",
      "     \n",
      "     %% Reporting\n",
      "     K = length(history.objval);                                                                                                        \n",
      "     \n",
      "     h = figure;\n",
      "     plot(1:K, history.objval, 'k', 'MarkerSize', 10, 'LineWidth', 2); \n",
      "     ylabel('f(x^k) + g(z^k)'); xlabel('iter (k)');\n",
      "     \n",
      "     g = figure;\n",
      "     subplot(2,1,1);                                                                                                                    \n",
      "     semilogy(1:K, max(1e-8, history.r_norm), 'k', ...\n",
      "         1:K, history.eps_pri, 'k--',  'LineWidth', 2); \n",
      "     ylabel('||r||_2'); \n",
      "     \n",
      "     subplot(2,1,2);                                                                                                                    \n",
      "     semilogy(1:K, max(1e-8, history.s_norm), 'k', ...\n",
      "         1:K, history.eps_dual, 'k--', 'LineWidth', 2);   \n",
      "     ylabel('||s||_2'); xlabel('iter (k)'); \n",
      "     '\n",
      "\n"
     ]
    }
   ],
   "source": [
    "eg_code = grabcode(\"https://web.stanford.edu/~boyd/papers/admm/lasso/lasso_example.html\")"
   ]
  },
  {
   "cell_type": "code",
   "execution_count": null,
   "id": "bbcaa4f7",
   "metadata": {},
   "outputs": [],
   "source": []
  },
  {
   "cell_type": "markdown",
   "id": "dfaedd97",
   "metadata": {},
   "source": [
    "### Generate problem data"
   ]
  },
  {
   "cell_type": "code",
   "execution_count": 4,
   "id": "58412639",
   "metadata": {},
   "outputs": [],
   "source": [
    "randn('seed', 0);\n",
    "rand('seed',0);\n",
    "\n",
    "m = 1500;       % number of examples\n",
    "n = 5000;       % number of features\n",
    "p = 100/n;      % sparsity density\n",
    "\n",
    "x0 = sprandn(n,1,p);\n",
    "A = randn(m,n);\n",
    "A = A*spdiags(1./sqrt(sum(A.^2))',0,n,n); % normalize columns\n",
    "b = A*x0 + sqrt(0.001)*randn(m,1);\n",
    "\n",
    "lambda_max = norm( A'*b, 'inf' );\n",
    "lambda = 0.1*lambda_max;"
   ]
  },
  {
   "cell_type": "code",
   "execution_count": null,
   "id": "3fcc22bd",
   "metadata": {},
   "outputs": [],
   "source": []
  },
  {
   "cell_type": "markdown",
   "id": "874395a7",
   "metadata": {},
   "source": [
    "### Solve problem"
   ]
  },
  {
   "cell_type": "code",
   "execution_count": 5,
   "id": "dbc73587",
   "metadata": {},
   "outputs": [
    {
     "name": "stdout",
     "output_type": "stream",
     "text": [
      "iter\t    r norm\t   eps pri\t    s norm\t  eps dual\t objective\n",
      "  1\t    3.7048\t    0.0465\t    0.7250\t    0.0441\t      3.35\n",
      "  2\t    2.2654\t    0.0409\t    1.7960\t    0.0653\t     10.13\n",
      "  3\t    1.0958\t    0.0529\t    2.0325\t    0.0734\t     15.14\n",
      "  4\t    0.8050\t    0.0687\t    1.7219\t    0.0736\t     17.68\n",
      "  5\t    0.8619\t    0.0801\t    1.2234\t    0.0704\t     18.69\n",
      "  6\t    0.8078\t    0.0864\t    0.7669\t    0.0667\t     18.92\n",
      "  7\t    0.6611\t    0.0889\t    0.4398\t    0.0635\t     18.80\n",
      "  8\t    0.4906\t    0.0890\t    0.2659\t    0.0612\t     18.49\n",
      "  9\t    0.3379\t    0.0878\t    0.2159\t    0.0598\t     18.12\n",
      " 10\t    0.2255\t    0.0861\t    0.1987\t    0.0591\t     17.78\n",
      " 11\t    0.1585\t    0.0845\t    0.1721\t    0.0590\t     17.51\n",
      " 12\t    0.1212\t    0.0833\t    0.1379\t    0.0591\t     17.35\n",
      " 13\t    0.0979\t    0.0825\t    0.1044\t    0.0595\t     17.27\n",
      " 14\t    0.0799\t    0.0820\t    0.0759\t    0.0598\t     17.25\n",
      " 15\t    0.0650\t    0.0819\t    0.0532\t    0.0602\t     17.27\n",
      "\u001a\u001a 0.255388 \u001a\u001a\n"
     ]
    }
   ],
   "source": [
    "[x history] = lasso(A, b, lambda, 1.0, 1.0);"
   ]
  },
  {
   "cell_type": "code",
   "execution_count": null,
   "id": "0b6b21ab",
   "metadata": {},
   "outputs": [],
   "source": []
  },
  {
   "cell_type": "markdown",
   "id": "c79e150c",
   "metadata": {},
   "source": [
    "### Reporting"
   ]
  },
  {
   "cell_type": "code",
   "execution_count": 7,
   "id": "f2891e79",
   "metadata": {},
   "outputs": [
    {
     "data": {
      "image/png": "[encoded data removed]",
      "text/plain": [
       "<IPython.core.display.Image object>"
      ]
     },
     "metadata": {},
     "output_type": "display_data"
    },
    {
     "data": {
      "image/png": "[encoded data removed]",
      "text/plain": [
       "<IPython.core.display.Image object>"
      ]
     },
     "metadata": {},
     "output_type": "display_data"
    }
   ],
   "source": [
    "K = length(history.objval);\n",
    "\n",
    "h = figure;\n",
    "plot(1:K, history.objval, 'k', 'MarkerSize', 10, 'LineWidth', 2);\n",
    "ylabel('f(x^k) + g(z^k)'); xlabel('iter (k)');\n",
    "\n",
    "g = figure;\n",
    "subplot(2,1,1);\n",
    "semilogy(1:K, max(1e-8, history.r_norm), 'k', ...\n",
    "    1:K, history.eps_pri, 'k--',  'LineWidth', 2);\n",
    "ylabel('||r||_2');\n",
    "\n",
    "subplot(2,1,2);\n",
    "semilogy(1:K, max(1e-8, history.s_norm), 'k', ...\n",
    "    1:K, history.eps_dual, 'k--', 'LineWidth', 2);\n",
    "ylabel('||s||_2'); xlabel('iter (k)');"
   ]
  },
  {
   "cell_type": "code",
   "execution_count": null,
   "id": "e061ddfd",
   "metadata": {},
   "outputs": [],
   "source": []
  },
  {
   "cell_type": "code",
   "execution_count": null,
   "id": "00ee99ad",
   "metadata": {},
   "outputs": [],
   "source": []
  }
 ],
 "metadata": {
  "kernelspec": {
   "display_name": "Matlab",
   "language": "matlab",
   "name": "matlab"
  },
  "language_info": {
   "codemirror_mode": "octave",
   "file_extension": ".m",
   "help_links": [
    {
     "text": "MetaKernel Magics",
     "url": "https://metakernel.readthedocs.io/en/latest/source/README.html"
    }
   ],
   "mimetype": "text/x-octave",
   "name": "matlab",
   "version": "0.16.11"
  }
 },
 "nbformat": 4,
 "nbformat_minor": 5
}
