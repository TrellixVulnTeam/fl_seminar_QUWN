{
 "cells": [
  {
   "cell_type": "markdown",
   "id": "17af4b90",
   "metadata": {},
   "source": [
    "## from https://web.stanford.edu/~boyd/papers/admm/"
   ]
  },
  {
   "cell_type": "code",
   "execution_count": null,
   "id": "e146c6a2",
   "metadata": {},
   "outputs": [],
   "source": []
  },
  {
   "cell_type": "markdown",
   "id": "a80c89aa",
   "metadata": {},
   "source": [
    "# Code"
   ]
  },
  {
   "cell_type": "code",
   "execution_count": 1,
   "id": "86d92971",
   "metadata": {},
   "outputs": [
    {
     "name": "stdout",
     "output_type": "stream",
     "text": [
      "\n",
      "code =\n",
      "\n",
      "    'function [z, history] = quadprog(P, q, r, lb, ub, rho, alpha)\n",
      "     % quadprog  Solve standard form box-constrained QP via ADMM\n",
      "     %\n",
      "     % [x, history] = quadprog(P, q, r, lb, ub, rho, alpha)\n",
      "     % \n",
      "     % Solves the following problem via ADMM:\n",
      "     % \n",
      "     %   minimize     (1/2)*x'*P*x + q'*x + r\n",
      "     %   subject to   lb <= x <= ub\n",
      "     % \n",
      "     % The solution is returned in the vector x.\n",
      "     %\n",
      "     % history is a structure that contains the objective value, the primal and \n",
      "     % dual residual norms, and the tolerances for the primal and dual residual \n",
      "     % norms at each iteration.\n",
      "     % \n",
      "     % rho is the augmented Lagrangian parameter. \n",
      "     %\n",
      "     % alpha is the over-relaxation parameter (typical values for alpha are \n",
      "     % between 1.0 and 1.8).\n",
      "     %\n",
      "     %\n",
      "     % More information can be found in the paper linked at:\n",
      "     % http://www.stanford.edu/~boyd/papers/distr_opt_stat_learning_admm.html\n",
      "     %\n",
      "     \n",
      "     t_start = tic;\n",
      "     \n",
      "     %% Global constants and defaults\n",
      "     \n",
      "     QUIET    = 0;\n",
      "     MAX_ITER = 1000;\n",
      "     ABSTOL   = 1e-4;\n",
      "     RELTOL   = 1e-2;\n",
      "     \n",
      "     %% Data preprocessing\n",
      "     \n",
      "     n = size(P,1);\n",
      "     \n",
      "     %% ADMM solver\n",
      "     \n",
      "     x = zeros(n,1);\n",
      "     z = zeros(n,1);\n",
      "     u = zeros(n,1);\n",
      "     \n",
      "     if ~QUIET\n",
      "         fprintf('%3s\\t%10s\\t%10s\\t%10s\\t%10s\\t%10s\\n', 'iter', ...\n",
      "           'r norm', 'eps pri', 's norm', 'eps dual', 'objective');\n",
      "     end\n",
      "     \n",
      "     for k = 1:MAX_ITER\n",
      "     \n",
      "         if k > 1\n",
      "             x = R \\ (R' \\ (rho*(z - u) - q));\n",
      "         else\n",
      "             R = chol(P + rho*eye(n));\n",
      "             x = R \\ (R' \\ (rho*(z - u) - q));\n",
      "         end\n",
      "     \n",
      "         % z-update with relaxation\n",
      "         zold = z;\n",
      "         x_hat = alpha*x +(1-alpha)*zold;\n",
      "         z = min(ub, max(lb, x_hat + u));\n",
      "     \n",
      "         % u-update\n",
      "         u = u + (x_hat - z);\n",
      "     \n",
      "         % diagnostics, reporting, termination checks\n",
      "         history.objval(k)  = objective(P, q, r, x);\n",
      "     \n",
      "         history.r_norm(k)  = norm(x - z);\n",
      "         history.s_norm(k)  = norm(-rho*(z - zold));\n",
      "         \n",
      "         history.eps_pri(k) = sqrt(n)*ABSTOL + RELTOL*max(norm(x), norm(-z));\n",
      "         history.eps_dual(k)= sqrt(n)*ABSTOL + RELTOL*norm(rho*u);\n",
      "         \n",
      "         if ~QUIET\n",
      "             fprintf('%3d\\t%10.4f\\t%10.4f\\t%10.4f\\t%10.4f\\t%10.2f\\n', k, ...\n",
      "                 history.r_norm(k), history.eps_pri(k), ...\n",
      "                 history.s_norm(k), history.eps_dual(k), history.objval(k));\n",
      "         end\n",
      "         \n",
      "         if (history.r_norm(k) < history.eps_pri(k) && ...\n",
      "            history.s_norm(k) < history.eps_dual(k))\n",
      "              break;\n",
      "         end\n",
      "     end\n",
      "     \n",
      "     if ~QUIET\n",
      "         toc(t_start);\n",
      "     end\n",
      "     \n",
      "     end\n",
      "     \n",
      "     function obj = objective(P, q, r, x)\n",
      "         obj = 0.5*x'*P*x + q'*x + r;\n",
      "     end\n",
      "     '\n",
      "\n"
     ]
    }
   ],
   "source": [
    "code = grabcode(\"https://web.stanford.edu/~boyd/papers/admm/quadprog/quadprog.html\")"
   ]
  },
  {
   "cell_type": "code",
   "execution_count": null,
   "id": "f6998a29",
   "metadata": {},
   "outputs": [],
   "source": []
  },
  {
   "cell_type": "code",
   "execution_count": 2,
   "id": "a22eb467",
   "metadata": {},
   "outputs": [
    {
     "name": "stdout",
     "output_type": "stream",
     "text": [
      "Created file '/home/wenh06/Jupyter/wenhao/workspace/fl_seminar/code/boyd-admm/quadprog.m'.\n"
     ]
    }
   ],
   "source": [
    "%%file quadprog.m\n",
    "\n",
    "function [z, history] = quadprog(P, q, r, lb, ub, rho, alpha)\n",
    "% quadprog  Solve standard form box-constrained QP via ADMM\n",
    "%\n",
    "% [x, history] = quadprog(P, q, r, lb, ub, rho, alpha)\n",
    "%\n",
    "% Solves the following problem via ADMM:\n",
    "%\n",
    "%   minimize     (1/2)*x'*P*x + q'*x + r\n",
    "%   subject to   lb <= x <= ub\n",
    "%\n",
    "% The solution is returned in the vector x.\n",
    "%\n",
    "% history is a structure that contains the objective value, the primal and\n",
    "% dual residual norms, and the tolerances for the primal and dual residual\n",
    "% norms at each iteration.\n",
    "%\n",
    "% rho is the augmented Lagrangian parameter.\n",
    "%\n",
    "% alpha is the over-relaxation parameter (typical values for alpha are\n",
    "% between 1.0 and 1.8).\n",
    "%\n",
    "%\n",
    "% More information can be found in the paper linked at:\n",
    "% http://www.stanford.edu/~boyd/papers/distr_opt_stat_learning_admm.html\n",
    "%\n",
    "\n",
    "t_start = tic;\n",
    "\n",
    "%% Global constants and defaults\n",
    "\n",
    "QUIET    = 0;\n",
    "MAX_ITER = 1000;\n",
    "ABSTOL   = 1e-4;\n",
    "RELTOL   = 1e-2;\n",
    "\n",
    "%% Data preprocessing\n",
    "\n",
    "n = size(P,1);\n",
    "\n",
    "%% ADMM solver\n",
    "\n",
    "x = zeros(n,1);\n",
    "z = zeros(n,1);\n",
    "u = zeros(n,1);\n",
    "\n",
    "if ~QUIET\n",
    "    fprintf('%3s\\t%10s\\t%10s\\t%10s\\t%10s\\t%10s\\n', 'iter', ...\n",
    "      'r norm', 'eps pri', 's norm', 'eps dual', 'objective');\n",
    "end\n",
    "\n",
    "for k = 1:MAX_ITER\n",
    "\n",
    "    if k > 1\n",
    "        x = R \\ (R' \\ (rho*(z - u) - q));\n",
    "    else\n",
    "        R = chol(P + rho*eye(n));\n",
    "        x = R \\ (R' \\ (rho*(z - u) - q));\n",
    "    end\n",
    "\n",
    "    % z-update with relaxation\n",
    "    zold = z;\n",
    "    x_hat = alpha*x +(1-alpha)*zold;\n",
    "    z = min(ub, max(lb, x_hat + u));\n",
    "\n",
    "    % u-update\n",
    "    u = u + (x_hat - z);\n",
    "\n",
    "    % diagnostics, reporting, termination checks\n",
    "    history.objval(k)  = objective(P, q, r, x);\n",
    "\n",
    "    history.r_norm(k)  = norm(x - z);\n",
    "    history.s_norm(k)  = norm(-rho*(z - zold));\n",
    "\n",
    "    history.eps_pri(k) = sqrt(n)*ABSTOL + RELTOL*max(norm(x), norm(-z));\n",
    "    history.eps_dual(k)= sqrt(n)*ABSTOL + RELTOL*norm(rho*u);\n",
    "\n",
    "    if ~QUIET\n",
    "        fprintf('%3d\\t%10.4f\\t%10.4f\\t%10.4f\\t%10.4f\\t%10.2f\\n', k, ...\n",
    "            history.r_norm(k), history.eps_pri(k), ...\n",
    "            history.s_norm(k), history.eps_dual(k), history.objval(k));\n",
    "    end\n",
    "\n",
    "    if (history.r_norm(k) < history.eps_pri(k) && ...\n",
    "       history.s_norm(k) < history.eps_dual(k))\n",
    "         break;\n",
    "    end\n",
    "end\n",
    "\n",
    "if ~QUIET\n",
    "    toc(t_start);\n",
    "end\n",
    "end\n",
    "\n",
    "function obj = objective(P, q, r, x)\n",
    "    obj = 0.5*x'*P*x + q'*x + r;\n",
    "end"
   ]
  },
  {
   "cell_type": "code",
   "execution_count": null,
   "id": "b287f8d5",
   "metadata": {},
   "outputs": [],
   "source": []
  },
  {
   "cell_type": "code",
   "execution_count": null,
   "id": "34a9ac10",
   "metadata": {},
   "outputs": [],
   "source": []
  },
  {
   "cell_type": "markdown",
   "id": "43eed1db",
   "metadata": {},
   "source": [
    "# Example"
   ]
  },
  {
   "cell_type": "code",
   "execution_count": 3,
   "id": "09cf08eb",
   "metadata": {
    "scrolled": true
   },
   "outputs": [
    {
     "name": "stdout",
     "output_type": "stream",
     "text": [
      "\n",
      "eg_code =\n",
      "\n",
      "    '% Standard form QP example\n",
      "     \n",
      "     %% Generate problem data\n",
      "     randn('state', 0);\n",
      "     rand('state', 0);\n",
      "     \n",
      "     n = 100;\n",
      "     \n",
      "     % generate a well-conditioned positive definite matrix\n",
      "     % (for faster convergence)\n",
      "     P = rand(n);\n",
      "     P = P + P';\n",
      "     [V D] = eig(P);\n",
      "     P = V*diag(1+rand(n,1))*V';\n",
      "     \n",
      "     q = randn(n,1);\n",
      "     r = randn(1);\n",
      "     \n",
      "     l = randn(n,1);        \n",
      "     u = randn(n,1);        \n",
      "     lb = min(l,u);\n",
      "     ub = max(l,u);\n",
      "     \n",
      "     %% Solve problem\n",
      "     \n",
      "     [x history] = quadprog(P, q, r, lb, ub, 1.0, 1.0);\n",
      "     \n",
      "     %% Reporting\n",
      "     K = length(history.objval);                                                                                                        \n",
      "     \n",
      "     h = figure;\n",
      "     plot(1:K, history.objval, 'k', 'MarkerSize', 10, 'LineWidth', 2); \n",
      "     ylabel('f(x^k) + g(z^k)'); xlabel('iter (k)');\n",
      "     \n",
      "     g = figure;\n",
      "     subplot(2,1,1);                                                                                                                    \n",
      "     semilogy(1:K, max(1e-8, history.r_norm), 'k', ...\n",
      "         1:K, history.eps_pri, 'k--',  'LineWidth', 2); \n",
      "     ylabel('||r||_2'); \n",
      "     \n",
      "     subplot(2,1,2);                                                                                                                    \n",
      "     semilogy(1:K, max(1e-8, history.s_norm), 'k', ...\n",
      "         1:K, history.eps_dual, 'k--', 'LineWidth', 2);   \n",
      "     ylabel('||s||_2'); xlabel('iter (k)'); \n",
      "     '\n",
      "\n"
     ]
    }
   ],
   "source": [
    "eg_code = grabcode(\"https://web.stanford.edu/~boyd/papers/admm/quadprog/quadprog_example.html\")"
   ]
  },
  {
   "cell_type": "code",
   "execution_count": null,
   "id": "820f43f3",
   "metadata": {},
   "outputs": [],
   "source": []
  },
  {
   "cell_type": "markdown",
   "id": "82b95287",
   "metadata": {},
   "source": [
    "### Generate problem data"
   ]
  },
  {
   "cell_type": "code",
   "execution_count": 4,
   "id": "4f4b7801",
   "metadata": {},
   "outputs": [],
   "source": [
    "randn('state', 0);\n",
    "rand('state', 0);\n",
    "\n",
    "n = 100;\n",
    "\n",
    "% generate a well-conditioned positive definite matrix\n",
    "% (for faster convergence)\n",
    "P = rand(n);\n",
    "P = P + P';\n",
    "[V D] = eig(P);\n",
    "P = V*diag(1+rand(n,1))*V';\n",
    "\n",
    "q = randn(n,1);\n",
    "r = randn(1);\n",
    "\n",
    "l = randn(n,1);\n",
    "u = randn(n,1);\n",
    "lb = min(l,u);\n",
    "ub = max(l,u);"
   ]
  },
  {
   "cell_type": "code",
   "execution_count": null,
   "id": "b0000881",
   "metadata": {},
   "outputs": [],
   "source": []
  },
  {
   "cell_type": "markdown",
   "id": "a1b73f12",
   "metadata": {},
   "source": [
    "### Solve problem"
   ]
  },
  {
   "cell_type": "code",
   "execution_count": 5,
   "id": "af686c2a",
   "metadata": {},
   "outputs": [
    {
     "name": "stdout",
     "output_type": "stream",
     "text": [
      "iter\t    r norm\t   eps pri\t    s norm\t  eps dual\t objective\n",
      "  1\t    5.4585\t    0.0508\t    4.9772\t    0.0556\t    -23.62\n",
      "  2\t    2.0050\t    0.0546\t    0.8151\t    0.0734\t    -10.06\n",
      "  3\t    1.2096\t    0.0558\t    0.2823\t    0.0845\t     -4.36\n",
      "  4\t    0.7197\t    0.0562\t    0.1188\t    0.0912\t     -0.39\n",
      "  5\t    0.4287\t    0.0564\t    0.0578\t    0.0952\t      2.14\n",
      "  6\t    0.2564\t    0.0564\t    0.0331\t    0.0976\t      3.70\n",
      "  7\t    0.1541\t    0.0564\t    0.0199\t    0.0990\t      4.64\n",
      "  8\t    0.0931\t    0.0564\t    0.0120\t    0.0999\t      5.21\n",
      "  9\t    0.0566\t    0.0564\t    0.0073\t    0.1004\t      5.55\n",
      " 10\t    0.0345\t    0.0564\t    0.0044\t    0.1007\t      5.75\n",
      "\u001a\u001a 0.025161 \u001a\u001a\n"
     ]
    }
   ],
   "source": [
    "[x history] = quadprog(P, q, r, lb, ub, 1.0, 1.0);"
   ]
  },
  {
   "cell_type": "code",
   "execution_count": null,
   "id": "bbc1c619",
   "metadata": {},
   "outputs": [],
   "source": []
  },
  {
   "cell_type": "markdown",
   "id": "7f66bd71",
   "metadata": {},
   "source": [
    "### Reporting"
   ]
  },
  {
   "cell_type": "code",
   "execution_count": 6,
   "id": "c6e26a64",
   "metadata": {},
   "outputs": [
    {
     "data": {
      "image/png": "[encoded data removed]",
      "text/plain": [
       "<IPython.core.display.Image object>"
      ]
     },
     "metadata": {},
     "output_type": "display_data"
    },
    {
     "data": {
      "image/png": "[encoded data removed]",
      "text/plain": [
       "<IPython.core.display.Image object>"
      ]
     },
     "metadata": {},
     "output_type": "display_data"
    }
   ],
   "source": [
    "K = length(history.objval);\n",
    "\n",
    "h = figure;\n",
    "plot(1:K, history.objval, 'k', 'MarkerSize', 10, 'LineWidth', 2);\n",
    "ylabel('f(x^k) + g(z^k)'); xlabel('iter (k)');\n",
    "\n",
    "g = figure;\n",
    "subplot(2,1,1);\n",
    "semilogy(1:K, max(1e-8, history.r_norm), 'k', ...\n",
    "    1:K, history.eps_pri, 'k--',  'LineWidth', 2);\n",
    "ylabel('||r||_2');\n",
    "\n",
    "subplot(2,1,2);\n",
    "semilogy(1:K, max(1e-8, history.s_norm), 'k', ...\n",
    "    1:K, history.eps_dual, 'k--', 'LineWidth', 2);\n",
    "ylabel('||s||_2'); xlabel('iter (k)');"
   ]
  },
  {
   "cell_type": "code",
   "execution_count": null,
   "id": "3af5065e",
   "metadata": {},
   "outputs": [],
   "source": []
  },
  {
   "cell_type": "code",
   "execution_count": null,
   "id": "e7bf0266",
   "metadata": {},
   "outputs": [],
   "source": []
  }
 ],
 "metadata": {
  "kernelspec": {
   "display_name": "Matlab",
   "language": "matlab",
   "name": "matlab"
  },
  "language_info": {
   "codemirror_mode": "octave",
   "file_extension": ".m",
   "help_links": [
    {
     "text": "MetaKernel Magics",
     "url": "https://metakernel.readthedocs.io/en/latest/source/README.html"
    }
   ],
   "mimetype": "text/x-octave",
   "name": "matlab",
   "version": "0.16.11"
  }
 },
 "nbformat": 4,
 "nbformat_minor": 5
}
